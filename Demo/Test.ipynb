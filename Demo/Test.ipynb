{
  "cells": [
    {
      "cell_type": "code",
      "execution_count": 1,
      "metadata": {
        "dotnet_interactive": {
          "language": "csharp"
        }
      },
      "source": [
        "#r \"./bin/Debug/net5.0/Demo.dll\"\n",
        "using System;\n",
        "using PreStormCore;\n",
        "var service = new Demo.Service();\n",
        "var crimes = service.CrimeLocations.Download(extraParameters: \"outSR=4326\", keepQuerying: true, degreeOfParallelism: 8).ToList();\n",
        "\n",
        "$\"Downloaded { crimes.Count } crimes!\"\n",
        ""
      ],
      "outputs": [
        {
          "output_type": "execute_result",
          "data": {
            "text/plain": "Downloaded 123160 crimes!"
          },
          "execution_count": 1,
          "metadata": {}
        }
      ]
    },
    {
      "cell_type": "code",
      "execution_count": 1,
      "metadata": {
        "dotnet_interactive": {
          "language": "csharp"
        }
      },
      "source": [
        "crimes\n",
        ""
      ],
      "outputs": [
        {
          "output_type": "execute_result",
          "data": {
            "text/html": "<table><thead><tr><th><i>index</i></th><th>Category</th><th>Descript</th><th>Pddistrict</th><th>Datetime</th><th>Geometry</th><th>OID</th><th>IsDataBound</th><th>IsDirty</th></tr></thead><tbody><tr><td>0</td><td><div class=\"dni-plaintext\">DUI/DRUNKENNESS</div></td><td><div class=\"dni-plaintext\">UNDER INFLUENCE OF ALCOHOL IN A PUBLIC PLACE</div></td><td><div class=\"dni-plaintext\">MISSION</div></td><td><span>2012-03-10 03:20:00Z</span></td><td><div class=\"dni-plaintext\">PreStormCore.Point</div></td><td><div class=\"dni-plaintext\">1</div></td><td><div class=\"dni-plaintext\">True</div></td><td><div class=\"dni-plaintext\">False</div></td></tr><tr><td>1</td><td><div class=\"dni-plaintext\">VANDALISM</div></td><td><div class=\"dni-plaintext\">MALICIOUS MISCHIEF, VANDALISM OF VEHICLES</div></td><td><div class=\"dni-plaintext\">BAYVIEW</div></td><td><span>2012-03-10 05:16:00Z</span></td><td><div class=\"dni-plaintext\">PreStormCore.Point</div></td><td><div class=\"dni-plaintext\">2</div></td><td><div class=\"dni-plaintext\">True</div></td><td><div class=\"dni-plaintext\">False</div></td></tr><tr><td>2</td><td><div class=\"dni-plaintext\">OTHER OFFENSES</div></td><td><div class=\"dni-plaintext\">LOST/STOLEN LICENSE PLATE</div></td><td><div class=\"dni-plaintext\">MISSION</div></td><td><span>2012-03-09 21:00:00Z</span></td><td><div class=\"dni-plaintext\">PreStormCore.Point</div></td><td><div class=\"dni-plaintext\">3</div></td><td><div class=\"dni-plaintext\">True</div></td><td><div class=\"dni-plaintext\">False</div></td></tr><tr><td>3</td><td><div class=\"dni-plaintext\">MISSING PERSON/RUNAWAY</div></td><td><div class=\"dni-plaintext\">FOUND PERSON</div></td><td><div class=\"dni-plaintext\">RICHMOND</div></td><td><span>2012-03-10 12:00:00Z</span></td><td><div class=\"dni-plaintext\">PreStormCore.Point</div></td><td><div class=\"dni-plaintext\">4</div></td><td><div class=\"dni-plaintext\">True</div></td><td><div class=\"dni-plaintext\">False</div></td></tr><tr><td>4</td><td><div class=\"dni-plaintext\">DRUG/NARCOTIC</div></td><td><div class=\"dni-plaintext\">POSSESSION OF NARCOTICS PARAPHERNALIA</div></td><td><div class=\"dni-plaintext\">TARAVAL</div></td><td><span>2012-03-10 12:04:00Z</span></td><td><div class=\"dni-plaintext\">PreStormCore.Point</div></td><td><div class=\"dni-plaintext\">5</div></td><td><div class=\"dni-plaintext\">True</div></td><td><div class=\"dni-plaintext\">False</div></td></tr><tr><td>5</td><td><div class=\"dni-plaintext\">OTHER OFFENSES</div></td><td><div class=\"dni-plaintext\">DRIVERS LICENSE, SUSPENDED OR REVOKED</div></td><td><div class=\"dni-plaintext\">BAYVIEW</div></td><td><span>2012-03-10 12:15:00Z</span></td><td><div class=\"dni-plaintext\">PreStormCore.Point</div></td><td><div class=\"dni-plaintext\">6</div></td><td><div class=\"dni-plaintext\">True</div></td><td><div class=\"dni-plaintext\">False</div></td></tr><tr><td>6</td><td><div class=\"dni-plaintext\">BURGLARY/THEFT</div></td><td><div class=\"dni-plaintext\">ROBBERY, BODILY FORCE</div></td><td><div class=\"dni-plaintext\">SOUTHERN</div></td><td><span>2012-03-08 16:30:00Z</span></td><td><div class=\"dni-plaintext\">PreStormCore.Point</div></td><td><div class=\"dni-plaintext\">7</div></td><td><div class=\"dni-plaintext\">True</div></td><td><div class=\"dni-plaintext\">False</div></td></tr><tr><td>7</td><td><div class=\"dni-plaintext\">VEHICLE THEFT</div></td><td><div class=\"dni-plaintext\">STOLEN TRUCK</div></td><td><div class=\"dni-plaintext\">BAYVIEW</div></td><td><span>2012-03-10 09:30:00Z</span></td><td><div class=\"dni-plaintext\">PreStormCore.Point</div></td><td><div class=\"dni-plaintext\">8</div></td><td><div class=\"dni-plaintext\">True</div></td><td><div class=\"dni-plaintext\">False</div></td></tr><tr><td>8</td><td><div class=\"dni-plaintext\">VEHICLE THEFT</div></td><td><div class=\"dni-plaintext\">STOLEN AUTOMOBILE</div></td><td><div class=\"dni-plaintext\">INGLESIDE</div></td><td><span>2012-03-09 21:00:00Z</span></td><td><div class=\"dni-plaintext\">PreStormCore.Point</div></td><td><div class=\"dni-plaintext\">9</div></td><td><div class=\"dni-plaintext\">True</div></td><td><div class=\"dni-plaintext\">False</div></td></tr><tr><td>9</td><td><div class=\"dni-plaintext\">OTHER OFFENSES</div></td><td><div class=\"dni-plaintext\">LOST/STOLEN LICENSE PLATE</div></td><td><div class=\"dni-plaintext\">RICHMOND</div></td><td><span>2012-03-07 20:00:00Z</span></td><td><div class=\"dni-plaintext\">PreStormCore.Point</div></td><td><div class=\"dni-plaintext\">10</div></td><td><div class=\"dni-plaintext\">True</div></td><td><div class=\"dni-plaintext\">False</div></td></tr><tr><td>10</td><td><div class=\"dni-plaintext\">VEHICLE THEFT</div></td><td><div class=\"dni-plaintext\">STOLEN TRUCK</div></td><td><div class=\"dni-plaintext\">CENTRAL</div></td><td><span>2012-03-10 05:06:00Z</span></td><td><div class=\"dni-plaintext\">PreStormCore.Point</div></td><td><div class=\"dni-plaintext\">11</div></td><td><div class=\"dni-plaintext\">True</div></td><td><div class=\"dni-plaintext\">False</div></td></tr><tr><td>11</td><td><div class=\"dni-plaintext\">OTHER OFFENSES</div></td><td><div class=\"dni-plaintext\">LOST/STOLEN LICENSE PLATE</div></td><td><div class=\"dni-plaintext\">SOUTHERN</div></td><td><span>2012-03-09 01:00:00Z</span></td><td><div class=\"dni-plaintext\">PreStormCore.Point</div></td><td><div class=\"dni-plaintext\">12</div></td><td><div class=\"dni-plaintext\">True</div></td><td><div class=\"dni-plaintext\">False</div></td></tr><tr><td>12</td><td><div class=\"dni-plaintext\">BURGLARY/THEFT</div></td><td><div class=\"dni-plaintext\">PETTY THEFT FROM LOCKED AUTO</div></td><td><div class=\"dni-plaintext\">SOUTHERN</div></td><td><span>2012-03-11 00:01:00Z</span></td><td><div class=\"dni-plaintext\">PreStormCore.Point</div></td><td><div class=\"dni-plaintext\">13</div></td><td><div class=\"dni-plaintext\">True</div></td><td><div class=\"dni-plaintext\">False</div></td></tr><tr><td>13</td><td><div class=\"dni-plaintext\">BURGLARY/THEFT</div></td><td><div class=\"dni-plaintext\">GRAND THEFT FROM LOCKED AUTO</div></td><td><div class=\"dni-plaintext\">SOUTHERN</div></td><td><span>2012-03-11 00:01:00Z</span></td><td><div class=\"dni-plaintext\">PreStormCore.Point</div></td><td><div class=\"dni-plaintext\">14</div></td><td><div class=\"dni-plaintext\">True</div></td><td><div class=\"dni-plaintext\">False</div></td></tr><tr><td>14</td><td><div class=\"dni-plaintext\">VEHICLE THEFT</div></td><td><div class=\"dni-plaintext\">STOLEN AUTOMOBILE</div></td><td><div class=\"dni-plaintext\">MISSION</div></td><td><span>2012-03-10 23:45:00Z</span></td><td><div class=\"dni-plaintext\">PreStormCore.Point</div></td><td><div class=\"dni-plaintext\">15</div></td><td><div class=\"dni-plaintext\">True</div></td><td><div class=\"dni-plaintext\">False</div></td></tr><tr><td>15</td><td><div class=\"dni-plaintext\">BURGLARY/THEFT</div></td><td><div class=\"dni-plaintext\">ROBBERY, ARMED WITH A GUN</div></td><td><div class=\"dni-plaintext\">CENTRAL</div></td><td><span>2012-03-11 05:00:00Z</span></td><td><div class=\"dni-plaintext\">PreStormCore.Point</div></td><td><div class=\"dni-plaintext\">16</div></td><td><div class=\"dni-plaintext\">True</div></td><td><div class=\"dni-plaintext\">False</div></td></tr><tr><td>16</td><td><div class=\"dni-plaintext\">BURGLARY/THEFT</div></td><td><div class=\"dni-plaintext\">CARJACKING WITH A GUN</div></td><td><div class=\"dni-plaintext\">CENTRAL</div></td><td><span>2012-03-11 05:00:00Z</span></td><td><div class=\"dni-plaintext\">PreStormCore.Point</div></td><td><div class=\"dni-plaintext\">17</div></td><td><div class=\"dni-plaintext\">True</div></td><td><div class=\"dni-plaintext\">False</div></td></tr><tr><td>17</td><td><div class=\"dni-plaintext\">ASSAULT</div></td><td><div class=\"dni-plaintext\">AGGRAVATED ASSAULT WITH BODILY FORCE</div></td><td><div class=\"dni-plaintext\">CENTRAL</div></td><td><span>2012-03-11 05:00:00Z</span></td><td><div class=\"dni-plaintext\">PreStormCore.Point</div></td><td><div class=\"dni-plaintext\">18</div></td><td><div class=\"dni-plaintext\">True</div></td><td><div class=\"dni-plaintext\">False</div></td></tr><tr><td>18</td><td><div class=\"dni-plaintext\">OTHER OFFENSES</div></td><td><div class=\"dni-plaintext\">MISCELLANEOUS STATE FELONY</div></td><td><div class=\"dni-plaintext\">TENDERLOIN</div></td><td><span>2012-03-11 15:30:00Z</span></td><td><div class=\"dni-plaintext\">PreStormCore.Point</div></td><td><div class=\"dni-plaintext\">19</div></td><td><div class=\"dni-plaintext\">True</div></td><td><div class=\"dni-plaintext\">False</div></td></tr><tr><td>19</td><td><div class=\"dni-plaintext\">DRUG/NARCOTIC</div></td><td><div class=\"dni-plaintext\">POSSESSION OF BASE/ROCK COCAINE</div></td><td><div class=\"dni-plaintext\">TENDERLOIN</div></td><td><span>2012-03-11 17:33:00Z</span></td><td><div class=\"dni-plaintext\">PreStormCore.Point</div></td><td><div class=\"dni-plaintext\">20</div></td><td><div class=\"dni-plaintext\">True</div></td><td><div class=\"dni-plaintext\">False</div></td></tr><tr><td colspan=\"9\">(123140 more)</td></tr></tbody></table>"
          },
          "execution_count": 1,
          "metadata": {}
        }
      ]
    },
    {
      "cell_type": "code",
      "execution_count": 1,
      "metadata": {
        "dotnet_interactive": {
          "language": "csharp"
        }
      },
      "source": [
        "crimes.Insert(0, new Demo.CrimeLocation{ Pddistrict = \"UNKOWN\", Category = \"HACKING GIS\", Datetime = DateTime.Now, Geometry = (-80, 48) });\n",
        "crimes\n",
        ""
      ],
      "outputs": [
        {
          "output_type": "execute_result",
          "data": {
            "text/html": "<table><thead><tr><th><i>index</i></th><th><i>type</i></th><th>Category</th><th>Descript</th><th>Pddistrict</th><th>Datetime</th><th>Geometry</th><th>OID</th><th>IsDataBound</th><th>IsDirty</th></tr></thead><tbody><tr><td>0</td><td>Demo.CrimeLocation</td><td><div class=\"dni-plaintext\">HACKING GIS</div></td><td><div class=\"dni-plaintext\">&lt;null&gt;</div></td><td><div class=\"dni-plaintext\">UNKOWN</div></td><td><span>2021-02-10 23:08:15Z</span></td><td><div class=\"dni-plaintext\">PreStormCore.Point</div></td><td><div class=\"dni-plaintext\">-1</div></td><td><div class=\"dni-plaintext\">False</div></td><td><div class=\"dni-plaintext\">True</div></td></tr><tr><td>1</td><td>_CrimeLocation</td><td><div class=\"dni-plaintext\">DUI/DRUNKENNESS</div></td><td><div class=\"dni-plaintext\">UNDER INFLUENCE OF ALCOHOL IN A PUBLIC PLACE</div></td><td><div class=\"dni-plaintext\">MISSION</div></td><td><span>2012-03-10 03:20:00Z</span></td><td><div class=\"dni-plaintext\">PreStormCore.Point</div></td><td><div class=\"dni-plaintext\">1</div></td><td><div class=\"dni-plaintext\">True</div></td><td><div class=\"dni-plaintext\">False</div></td></tr><tr><td>2</td><td>_CrimeLocation</td><td><div class=\"dni-plaintext\">VANDALISM</div></td><td><div class=\"dni-plaintext\">MALICIOUS MISCHIEF, VANDALISM OF VEHICLES</div></td><td><div class=\"dni-plaintext\">BAYVIEW</div></td><td><span>2012-03-10 05:16:00Z</span></td><td><div class=\"dni-plaintext\">PreStormCore.Point</div></td><td><div class=\"dni-plaintext\">2</div></td><td><div class=\"dni-plaintext\">True</div></td><td><div class=\"dni-plaintext\">False</div></td></tr><tr><td>3</td><td>_CrimeLocation</td><td><div class=\"dni-plaintext\">OTHER OFFENSES</div></td><td><div class=\"dni-plaintext\">LOST/STOLEN LICENSE PLATE</div></td><td><div class=\"dni-plaintext\">MISSION</div></td><td><span>2012-03-09 21:00:00Z</span></td><td><div class=\"dni-plaintext\">PreStormCore.Point</div></td><td><div class=\"dni-plaintext\">3</div></td><td><div class=\"dni-plaintext\">True</div></td><td><div class=\"dni-plaintext\">False</div></td></tr><tr><td>4</td><td>_CrimeLocation</td><td><div class=\"dni-plaintext\">MISSING PERSON/RUNAWAY</div></td><td><div class=\"dni-plaintext\">FOUND PERSON</div></td><td><div class=\"dni-plaintext\">RICHMOND</div></td><td><span>2012-03-10 12:00:00Z</span></td><td><div class=\"dni-plaintext\">PreStormCore.Point</div></td><td><div class=\"dni-plaintext\">4</div></td><td><div class=\"dni-plaintext\">True</div></td><td><div class=\"dni-plaintext\">False</div></td></tr><tr><td>5</td><td>_CrimeLocation</td><td><div class=\"dni-plaintext\">DRUG/NARCOTIC</div></td><td><div class=\"dni-plaintext\">POSSESSION OF NARCOTICS PARAPHERNALIA</div></td><td><div class=\"dni-plaintext\">TARAVAL</div></td><td><span>2012-03-10 12:04:00Z</span></td><td><div class=\"dni-plaintext\">PreStormCore.Point</div></td><td><div class=\"dni-plaintext\">5</div></td><td><div class=\"dni-plaintext\">True</div></td><td><div class=\"dni-plaintext\">False</div></td></tr><tr><td>6</td><td>_CrimeLocation</td><td><div class=\"dni-plaintext\">OTHER OFFENSES</div></td><td><div class=\"dni-plaintext\">DRIVERS LICENSE, SUSPENDED OR REVOKED</div></td><td><div class=\"dni-plaintext\">BAYVIEW</div></td><td><span>2012-03-10 12:15:00Z</span></td><td><div class=\"dni-plaintext\">PreStormCore.Point</div></td><td><div class=\"dni-plaintext\">6</div></td><td><div class=\"dni-plaintext\">True</div></td><td><div class=\"dni-plaintext\">False</div></td></tr><tr><td>7</td><td>_CrimeLocation</td><td><div class=\"dni-plaintext\">BURGLARY/THEFT</div></td><td><div class=\"dni-plaintext\">ROBBERY, BODILY FORCE</div></td><td><div class=\"dni-plaintext\">SOUTHERN</div></td><td><span>2012-03-08 16:30:00Z</span></td><td><div class=\"dni-plaintext\">PreStormCore.Point</div></td><td><div class=\"dni-plaintext\">7</div></td><td><div class=\"dni-plaintext\">True</div></td><td><div class=\"dni-plaintext\">False</div></td></tr><tr><td>8</td><td>_CrimeLocation</td><td><div class=\"dni-plaintext\">VEHICLE THEFT</div></td><td><div class=\"dni-plaintext\">STOLEN TRUCK</div></td><td><div class=\"dni-plaintext\">BAYVIEW</div></td><td><span>2012-03-10 09:30:00Z</span></td><td><div class=\"dni-plaintext\">PreStormCore.Point</div></td><td><div class=\"dni-plaintext\">8</div></td><td><div class=\"dni-plaintext\">True</div></td><td><div class=\"dni-plaintext\">False</div></td></tr><tr><td>9</td><td>_CrimeLocation</td><td><div class=\"dni-plaintext\">VEHICLE THEFT</div></td><td><div class=\"dni-plaintext\">STOLEN AUTOMOBILE</div></td><td><div class=\"dni-plaintext\">INGLESIDE</div></td><td><span>2012-03-09 21:00:00Z</span></td><td><div class=\"dni-plaintext\">PreStormCore.Point</div></td><td><div class=\"dni-plaintext\">9</div></td><td><div class=\"dni-plaintext\">True</div></td><td><div class=\"dni-plaintext\">False</div></td></tr><tr><td>10</td><td>_CrimeLocation</td><td><div class=\"dni-plaintext\">OTHER OFFENSES</div></td><td><div class=\"dni-plaintext\">LOST/STOLEN LICENSE PLATE</div></td><td><div class=\"dni-plaintext\">RICHMOND</div></td><td><span>2012-03-07 20:00:00Z</span></td><td><div class=\"dni-plaintext\">PreStormCore.Point</div></td><td><div class=\"dni-plaintext\">10</div></td><td><div class=\"dni-plaintext\">True</div></td><td><div class=\"dni-plaintext\">False</div></td></tr><tr><td>11</td><td>_CrimeLocation</td><td><div class=\"dni-plaintext\">VEHICLE THEFT</div></td><td><div class=\"dni-plaintext\">STOLEN TRUCK</div></td><td><div class=\"dni-plaintext\">CENTRAL</div></td><td><span>2012-03-10 05:06:00Z</span></td><td><div class=\"dni-plaintext\">PreStormCore.Point</div></td><td><div class=\"dni-plaintext\">11</div></td><td><div class=\"dni-plaintext\">True</div></td><td><div class=\"dni-plaintext\">False</div></td></tr><tr><td>12</td><td>_CrimeLocation</td><td><div class=\"dni-plaintext\">OTHER OFFENSES</div></td><td><div class=\"dni-plaintext\">LOST/STOLEN LICENSE PLATE</div></td><td><div class=\"dni-plaintext\">SOUTHERN</div></td><td><span>2012-03-09 01:00:00Z</span></td><td><div class=\"dni-plaintext\">PreStormCore.Point</div></td><td><div class=\"dni-plaintext\">12</div></td><td><div class=\"dni-plaintext\">True</div></td><td><div class=\"dni-plaintext\">False</div></td></tr><tr><td>13</td><td>_CrimeLocation</td><td><div class=\"dni-plaintext\">BURGLARY/THEFT</div></td><td><div class=\"dni-plaintext\">PETTY THEFT FROM LOCKED AUTO</div></td><td><div class=\"dni-plaintext\">SOUTHERN</div></td><td><span>2012-03-11 00:01:00Z</span></td><td><div class=\"dni-plaintext\">PreStormCore.Point</div></td><td><div class=\"dni-plaintext\">13</div></td><td><div class=\"dni-plaintext\">True</div></td><td><div class=\"dni-plaintext\">False</div></td></tr><tr><td>14</td><td>_CrimeLocation</td><td><div class=\"dni-plaintext\">BURGLARY/THEFT</div></td><td><div class=\"dni-plaintext\">GRAND THEFT FROM LOCKED AUTO</div></td><td><div class=\"dni-plaintext\">SOUTHERN</div></td><td><span>2012-03-11 00:01:00Z</span></td><td><div class=\"dni-plaintext\">PreStormCore.Point</div></td><td><div class=\"dni-plaintext\">14</div></td><td><div class=\"dni-plaintext\">True</div></td><td><div class=\"dni-plaintext\">False</div></td></tr><tr><td>15</td><td>_CrimeLocation</td><td><div class=\"dni-plaintext\">VEHICLE THEFT</div></td><td><div class=\"dni-plaintext\">STOLEN AUTOMOBILE</div></td><td><div class=\"dni-plaintext\">MISSION</div></td><td><span>2012-03-10 23:45:00Z</span></td><td><div class=\"dni-plaintext\">PreStormCore.Point</div></td><td><div class=\"dni-plaintext\">15</div></td><td><div class=\"dni-plaintext\">True</div></td><td><div class=\"dni-plaintext\">False</div></td></tr><tr><td>16</td><td>_CrimeLocation</td><td><div class=\"dni-plaintext\">BURGLARY/THEFT</div></td><td><div class=\"dni-plaintext\">ROBBERY, ARMED WITH A GUN</div></td><td><div class=\"dni-plaintext\">CENTRAL</div></td><td><span>2012-03-11 05:00:00Z</span></td><td><div class=\"dni-plaintext\">PreStormCore.Point</div></td><td><div class=\"dni-plaintext\">16</div></td><td><div class=\"dni-plaintext\">True</div></td><td><div class=\"dni-plaintext\">False</div></td></tr><tr><td>17</td><td>_CrimeLocation</td><td><div class=\"dni-plaintext\">BURGLARY/THEFT</div></td><td><div class=\"dni-plaintext\">CARJACKING WITH A GUN</div></td><td><div class=\"dni-plaintext\">CENTRAL</div></td><td><span>2012-03-11 05:00:00Z</span></td><td><div class=\"dni-plaintext\">PreStormCore.Point</div></td><td><div class=\"dni-plaintext\">17</div></td><td><div class=\"dni-plaintext\">True</div></td><td><div class=\"dni-plaintext\">False</div></td></tr><tr><td>18</td><td>_CrimeLocation</td><td><div class=\"dni-plaintext\">ASSAULT</div></td><td><div class=\"dni-plaintext\">AGGRAVATED ASSAULT WITH BODILY FORCE</div></td><td><div class=\"dni-plaintext\">CENTRAL</div></td><td><span>2012-03-11 05:00:00Z</span></td><td><div class=\"dni-plaintext\">PreStormCore.Point</div></td><td><div class=\"dni-plaintext\">18</div></td><td><div class=\"dni-plaintext\">True</div></td><td><div class=\"dni-plaintext\">False</div></td></tr><tr><td>19</td><td>_CrimeLocation</td><td><div class=\"dni-plaintext\">OTHER OFFENSES</div></td><td><div class=\"dni-plaintext\">MISCELLANEOUS STATE FELONY</div></td><td><div class=\"dni-plaintext\">TENDERLOIN</div></td><td><span>2012-03-11 15:30:00Z</span></td><td><div class=\"dni-plaintext\">PreStormCore.Point</div></td><td><div class=\"dni-plaintext\">19</div></td><td><div class=\"dni-plaintext\">True</div></td><td><div class=\"dni-plaintext\">False</div></td></tr><tr><td colspan=\"10\">(123141 more)</td></tr></tbody></table>"
          },
          "execution_count": 1,
          "metadata": {}
        }
      ]
    },
    {
      "cell_type": "code",
      "execution_count": 1,
      "metadata": {
        "dotnet_interactive": {
          "language": "csharp"
        }
      },
      "source": [
        "#r \"nuget: XPlot.Plotly, 3.0.1\"\n",
        "XPlot.Plotly.Chart.Bar(crimes.GroupBy(x => x.Pddistrict).Select(x => Tuple.Create(x.Key, x.Count())))\n",
        ""
      ],
      "outputs": [
        {
          "output_type": "execute_result",
          "data": {
            "text/html": "<div id=\"dfcfae58-799b-46ba-874f-2c5d93c36770\" style=\"width: 900px; height: 500px;\"></div>\r\n<script type=\"text/javascript\">\n\r\nvar renderPlotly = function() {\r\n    var xplotRequire = require.config({context:'xplot-3.0.1',paths:{plotly:'https://cdn.plot.ly/plotly-1.49.2.min'}}) || require;\r\n    xplotRequire(['plotly'], function(Plotly) {\n\n            var data = [{\"type\":\"bar\",\"x\":[1,16259,12418,6809,9103,23080,10767,12595,10210,14266,7653],\"y\":[\"UNKOWN\",\"MISSION\",\"BAYVIEW\",\"RICHMOND\",\"TARAVAL\",\"SOUTHERN\",\"INGLESIDE\",\"CENTRAL\",\"TENDERLOIN\",\"NORTHERN\",\"PARK\"],\"orientation\":\"h\"}];\n            var layout = \"\";\n            Plotly.newPlot('dfcfae58-799b-46ba-874f-2c5d93c36770', data, layout);\n        \n});\r\n};\n// ensure `require` is available globally\r\nif ((typeof(require) !==  typeof(Function)) || (typeof(require.config) !== typeof(Function))) {\r\n    let require_script = document.createElement('script');\r\n    require_script.setAttribute('src', 'https://cdnjs.cloudflare.com/ajax/libs/require.js/2.3.6/require.min.js');\r\n    require_script.setAttribute('type', 'text/javascript');\r\n    \r\n    \r\n    require_script.onload = function() {\r\n        renderPlotly();\r\n    };\r\n\r\n    document.getElementsByTagName('head')[0].appendChild(require_script);\r\n}\r\nelse {\r\n    renderPlotly();\r\n}\r\n\n</script>\n"
          },
          "execution_count": 1,
          "metadata": {}
        }
      ]
    },
    {
      "cell_type": "code",
      "execution_count": 1,
      "metadata": {
        "dotnet_interactive": {
          "language": "csharp"
        }
      },
      "source": [
        "#r \"nuget: XPlot.Plotly, 3.0.1\"\n",
        "XPlot.Plotly.Chart.Pie(crimes.GroupBy(x => x.Category).OrderByDescending(x => x.Count()).Select(x => Tuple.Create(x.Key, x.Count())))\n",
        ""
      ],
      "outputs": [
        {
          "output_type": "execute_result",
          "data": {
            "text/html": "<div id=\"b473daa3-2604-4dee-9a71-43710f98f8b6\" style=\"width: 900px; height: 500px;\"></div>\r\n<script type=\"text/javascript\">\n\r\nvar renderPlotly = function() {\r\n    var xplotRequire = require.config({context:'xplot-3.0.1',paths:{plotly:'https://cdn.plot.ly/plotly-1.49.2.min'}}) || require;\r\n    xplotRequire(['plotly'], function(Plotly) {\n\n            var data = [{\"type\":\"pie\",\"labels\":[\"BURGLARY/THEFT\",\"OTHER OFFENSES\",\"NON-CRIMINAL\",\"ASSAULT\",\"VANDALISM\",\"VEHICLE THEFT\",\"DRUG/NARCOTIC\",\"WARRANTS\",\"DISORDERLY CONDUCT\",\"MISSING PERSON/RUNAWAY\",\"FORGERY/FRAUD\",\"DUI/DRUNKENNESS\",\"WEAPON LAWS\",\"SEX OFFENSES, FORCIBLE\",\"SEX OFFENSES\",\"KIDNAPPING\",\"ARSON\",\"BRIBERY/EXTORTION\",\"SUICIDE\",\"FAMILY OFFENSES\",\"GAMBLING\",\"HACKING GIS\"],\"values\":[39939,14913,14463,9834,7511,6828,6234,6182,5377,4660,3228,1262,1052,581,293,267,228,173,85,35,15,1]}];\n            var layout = \"\";\n            Plotly.newPlot('b473daa3-2604-4dee-9a71-43710f98f8b6', data, layout);\n        \n});\r\n};\n// ensure `require` is available globally\r\nif ((typeof(require) !==  typeof(Function)) || (typeof(require.config) !== typeof(Function))) {\r\n    let require_script = document.createElement('script');\r\n    require_script.setAttribute('src', 'https://cdnjs.cloudflare.com/ajax/libs/require.js/2.3.6/require.min.js');\r\n    require_script.setAttribute('type', 'text/javascript');\r\n    \r\n    \r\n    require_script.onload = function() {\r\n        renderPlotly();\r\n    };\r\n\r\n    document.getElementsByTagName('head')[0].appendChild(require_script);\r\n}\r\nelse {\r\n    renderPlotly();\r\n}\r\n\n</script>\n"
          },
          "execution_count": 1,
          "metadata": {}
        }
      ]
    },
    {
      "cell_type": "code",
      "execution_count": 1,
      "metadata": {
        "dotnet_interactive": {
          "language": "csharp"
        }
      },
      "source": [
        "crimes.Select(x => x.ToText())\n",
        ""
      ],
      "outputs": [
        {
          "output_type": "execute_result",
          "data": {
            "text/html": "<table><thead><tr><th><i>index</i></th><th>value</th></tr></thead><tbody><tr><td>0</td><td><div class=\"dni-plaintext\">&quot;-1&quot;,&quot;HACKING GIS&quot;,&quot;&quot;,&quot;UNKOWN&quot;,&quot;2021-02-10T23:08:15.9811400-05:00&quot;</div></td></tr><tr><td>1</td><td><div class=\"dni-plaintext\">&quot;1&quot;,&quot;DUI/DRUNKENNESS&quot;,&quot;UNDER INFLUENCE OF ALCOHOL IN A PUBLIC PLACE&quot;,&quot;MISSION&quot;,&quot;2012-03-10T03:20:00.0000000Z&quot;</div></td></tr><tr><td>2</td><td><div class=\"dni-plaintext\">&quot;2&quot;,&quot;VANDALISM&quot;,&quot;MALICIOUS MISCHIEF, VANDALISM OF VEHICLES&quot;,&quot;BAYVIEW&quot;,&quot;2012-03-10T05:16:00.0000000Z&quot;</div></td></tr><tr><td>3</td><td><div class=\"dni-plaintext\">&quot;3&quot;,&quot;OTHER OFFENSES&quot;,&quot;LOST/STOLEN LICENSE PLATE&quot;,&quot;MISSION&quot;,&quot;2012-03-09T21:00:00.0000000Z&quot;</div></td></tr><tr><td>4</td><td><div class=\"dni-plaintext\">&quot;4&quot;,&quot;MISSING PERSON/RUNAWAY&quot;,&quot;FOUND PERSON&quot;,&quot;RICHMOND&quot;,&quot;2012-03-10T12:00:00.0000000Z&quot;</div></td></tr><tr><td>5</td><td><div class=\"dni-plaintext\">&quot;5&quot;,&quot;DRUG/NARCOTIC&quot;,&quot;POSSESSION OF NARCOTICS PARAPHERNALIA&quot;,&quot;TARAVAL&quot;,&quot;2012-03-10T12:04:00.0000000Z&quot;</div></td></tr><tr><td>6</td><td><div class=\"dni-plaintext\">&quot;6&quot;,&quot;OTHER OFFENSES&quot;,&quot;DRIVERS LICENSE, SUSPENDED OR REVOKED&quot;,&quot;BAYVIEW&quot;,&quot;2012-03-10T12:15:00.0000000Z&quot;</div></td></tr><tr><td>7</td><td><div class=\"dni-plaintext\">&quot;7&quot;,&quot;BURGLARY/THEFT&quot;,&quot;ROBBERY, BODILY FORCE&quot;,&quot;SOUTHERN&quot;,&quot;2012-03-08T16:30:00.0000000Z&quot;</div></td></tr><tr><td>8</td><td><div class=\"dni-plaintext\">&quot;8&quot;,&quot;VEHICLE THEFT&quot;,&quot;STOLEN TRUCK&quot;,&quot;BAYVIEW&quot;,&quot;2012-03-10T09:30:00.0000000Z&quot;</div></td></tr><tr><td>9</td><td><div class=\"dni-plaintext\">&quot;9&quot;,&quot;VEHICLE THEFT&quot;,&quot;STOLEN AUTOMOBILE&quot;,&quot;INGLESIDE&quot;,&quot;2012-03-09T21:00:00.0000000Z&quot;</div></td></tr><tr><td>10</td><td><div class=\"dni-plaintext\">&quot;10&quot;,&quot;OTHER OFFENSES&quot;,&quot;LOST/STOLEN LICENSE PLATE&quot;,&quot;RICHMOND&quot;,&quot;2012-03-07T20:00:00.0000000Z&quot;</div></td></tr><tr><td>11</td><td><div class=\"dni-plaintext\">&quot;11&quot;,&quot;VEHICLE THEFT&quot;,&quot;STOLEN TRUCK&quot;,&quot;CENTRAL&quot;,&quot;2012-03-10T05:06:00.0000000Z&quot;</div></td></tr><tr><td>12</td><td><div class=\"dni-plaintext\">&quot;12&quot;,&quot;OTHER OFFENSES&quot;,&quot;LOST/STOLEN LICENSE PLATE&quot;,&quot;SOUTHERN&quot;,&quot;2012-03-09T01:00:00.0000000Z&quot;</div></td></tr><tr><td>13</td><td><div class=\"dni-plaintext\">&quot;13&quot;,&quot;BURGLARY/THEFT&quot;,&quot;PETTY THEFT FROM LOCKED AUTO&quot;,&quot;SOUTHERN&quot;,&quot;2012-03-11T00:01:00.0000000Z&quot;</div></td></tr><tr><td>14</td><td><div class=\"dni-plaintext\">&quot;14&quot;,&quot;BURGLARY/THEFT&quot;,&quot;GRAND THEFT FROM LOCKED AUTO&quot;,&quot;SOUTHERN&quot;,&quot;2012-03-11T00:01:00.0000000Z&quot;</div></td></tr><tr><td>15</td><td><div class=\"dni-plaintext\">&quot;15&quot;,&quot;VEHICLE THEFT&quot;,&quot;STOLEN AUTOMOBILE&quot;,&quot;MISSION&quot;,&quot;2012-03-10T23:45:00.0000000Z&quot;</div></td></tr><tr><td>16</td><td><div class=\"dni-plaintext\">&quot;16&quot;,&quot;BURGLARY/THEFT&quot;,&quot;ROBBERY, ARMED WITH A GUN&quot;,&quot;CENTRAL&quot;,&quot;2012-03-11T05:00:00.0000000Z&quot;</div></td></tr><tr><td>17</td><td><div class=\"dni-plaintext\">&quot;17&quot;,&quot;BURGLARY/THEFT&quot;,&quot;CARJACKING WITH A GUN&quot;,&quot;CENTRAL&quot;,&quot;2012-03-11T05:00:00.0000000Z&quot;</div></td></tr><tr><td>18</td><td><div class=\"dni-plaintext\">&quot;18&quot;,&quot;ASSAULT&quot;,&quot;AGGRAVATED ASSAULT WITH BODILY FORCE&quot;,&quot;CENTRAL&quot;,&quot;2012-03-11T05:00:00.0000000Z&quot;</div></td></tr><tr><td>19</td><td><div class=\"dni-plaintext\">&quot;19&quot;,&quot;OTHER OFFENSES&quot;,&quot;MISCELLANEOUS STATE FELONY&quot;,&quot;TENDERLOIN&quot;,&quot;2012-03-11T15:30:00.0000000Z&quot;</div></td></tr><tr><td colspan=\"2\">(123141 more)</td></tr></tbody></table>"
          },
          "execution_count": 1,
          "metadata": {}
        }
      ]
    },
    {
      "cell_type": "code",
      "execution_count": 1,
      "metadata": {
        "dotnet_interactive": {
          "language": "csharp"
        }
      },
      "source": [
        "crimes.Select(x => x.ToText(\"\\t\", null, p => new[]{ p?.x, p?.y }, d => d.ToShortDateString()))\n",
        ""
      ],
      "outputs": [
        {
          "output_type": "execute_result",
          "data": {
            "text/html": "<table><thead><tr><th><i>index</i></th><th>value</th></tr></thead><tbody><tr><td>0</td><td><div class=\"dni-plaintext\">-1\tHACKING GIS\t\tUNKOWN\t02/10/2021\t-80\t48</div></td></tr><tr><td>1</td><td><div class=\"dni-plaintext\">1\tDUI/DRUNKENNESS\tUNDER INFLUENCE OF ALCOHOL IN A PUBLIC PLACE\tMISSION\t03/10/2012\t-122.41881369999999\t37.75654011</div></td></tr><tr><td>2</td><td><div class=\"dni-plaintext\">2\tVANDALISM\tMALICIOUS MISCHIEF, VANDALISM OF VEHICLES\tBAYVIEW\t03/10/2012\t-122.39673049999999\t37.71045751999998</div></td></tr><tr><td>3</td><td><div class=\"dni-plaintext\">3\tOTHER OFFENSES\tLOST/STOLEN LICENSE PLATE\tMISSION\t03/09/2012\t-122.41998339999998\t37.768272679999995</div></td></tr><tr><td>4</td><td><div class=\"dni-plaintext\">4\tMISSING PERSON/RUNAWAY\tFOUND PERSON\tRICHMOND\t03/10/2012\t-122.4642417\t37.77984182</div></td></tr><tr><td>5</td><td><div class=\"dni-plaintext\">5\tDRUG/NARCOTIC\tPOSSESSION OF NARCOTICS PARAPHERNALIA\tTARAVAL\t03/10/2012\t-122.46378010000001\t37.71426494999997</div></td></tr><tr><td>6</td><td><div class=\"dni-plaintext\">6\tOTHER OFFENSES\tDRIVERS LICENSE, SUSPENDED OR REVOKED\tBAYVIEW\t03/10/2012\t-122.39016800000002\t37.72415681000001</div></td></tr><tr><td>7</td><td><div class=\"dni-plaintext\">7\tBURGLARY/THEFT\tROBBERY, BODILY FORCE\tSOUTHERN\t03/08/2012\t-122.40583249999997\t37.78574465000003</div></td></tr><tr><td>8</td><td><div class=\"dni-plaintext\">8\tVEHICLE THEFT\tSTOLEN TRUCK\tBAYVIEW\t03/10/2012\t-122.3851477\t37.74029765</div></td></tr><tr><td>9</td><td><div class=\"dni-plaintext\">9\tVEHICLE THEFT\tSTOLEN AUTOMOBILE\tINGLESIDE\t03/09/2012\t-122.4003563\t37.716479230000004</div></td></tr><tr><td>10</td><td><div class=\"dni-plaintext\">10\tOTHER OFFENSES\tLOST/STOLEN LICENSE PLATE\tRICHMOND\t03/07/2012\t-122.47032789999997\t37.776065570000014</div></td></tr><tr><td>11</td><td><div class=\"dni-plaintext\">11\tVEHICLE THEFT\tSTOLEN TRUCK\tCENTRAL\t03/10/2012\t-122.4108761\t37.79232215000002</div></td></tr><tr><td>12</td><td><div class=\"dni-plaintext\">12\tOTHER OFFENSES\tLOST/STOLEN LICENSE PLATE\tSOUTHERN\t03/09/2012\t-122.4096849\t37.78015470999998</div></td></tr><tr><td>13</td><td><div class=\"dni-plaintext\">13\tBURGLARY/THEFT\tPETTY THEFT FROM LOCKED AUTO\tSOUTHERN\t03/11/2012\t-122.40061739999999\t37.78158761999998</div></td></tr><tr><td>14</td><td><div class=\"dni-plaintext\">14\tBURGLARY/THEFT\tGRAND THEFT FROM LOCKED AUTO\tSOUTHERN\t03/11/2012\t-122.39888239999999\t37.782222649999994</div></td></tr><tr><td>15</td><td><div class=\"dni-plaintext\">15\tVEHICLE THEFT\tSTOLEN AUTOMOBILE\tMISSION\t03/10/2012\t-122.4307159\t37.76408356000002</div></td></tr><tr><td>16</td><td><div class=\"dni-plaintext\">16\tBURGLARY/THEFT\tROBBERY, ARMED WITH A GUN\tCENTRAL\t03/11/2012\t-122.4145403\t37.796849959999975</div></td></tr><tr><td>17</td><td><div class=\"dni-plaintext\">17\tBURGLARY/THEFT\tCARJACKING WITH A GUN\tCENTRAL\t03/11/2012\t-122.4145403\t37.796849959999975</div></td></tr><tr><td>18</td><td><div class=\"dni-plaintext\">18\tASSAULT\tAGGRAVATED ASSAULT WITH BODILY FORCE\tCENTRAL\t03/11/2012\t-122.4145403\t37.796849959999975</div></td></tr><tr><td>19</td><td><div class=\"dni-plaintext\">19\tOTHER OFFENSES\tMISCELLANEOUS STATE FELONY\tTENDERLOIN\t03/11/2012\t-122.40645710000001\t37.787105380000014</div></td></tr><tr><td colspan=\"2\">(123141 more)</td></tr></tbody></table>"
          },
          "execution_count": 1,
          "metadata": {}
        }
      ]
    },
    {
      "cell_type": "code",
      "execution_count": 1,
      "metadata": {
        "dotnet_interactive": {
          "language": "csharp"
        }
      },
      "source": [
        "crimes.OrderByDescending(x=>x.Datetime).Take(4).ToKml().ToString()\n",
        ""
      ],
      "outputs": [
        {
          "output_type": "execute_result",
          "data": {
            "text/plain": "<kml xmlns=\"http://www.opengis.net/kml/2.2\">\n  <Document>\n    <Placemark id=\"-1\">\n      <name />\n      <ExtendedData>\n        <Data name=\"category\">\n          <value>HACKING GIS</value>\n        </Data>\n        <Data name=\"descript\">\n          <value />\n        </Data>\n        <Data name=\"pddistrict\">\n          <value>UNKOWN</value>\n        </Data>\n        <Data name=\"datetime_\">\n          <value>2021-02-10T23:08:15.98114-05:00</value>\n        </Data>\n      </ExtendedData>\n      <Point>\n        <coordinates>-80,48,0</coordinates>\n      </Point>\n    </Placemark>\n    <Placemark id=\"74428\">\n      <name />\n      <ExtendedData>\n        <Data name=\"category\">\n          <value>BURGLARY/THEFT</value>\n        </Data>\n        <Data name=\"descript\">\n          <value>GRAND THEFT FROM A BUILDING</value>\n        </Data>\n        <Data name=\"pddistrict\">\n          <value>MISSION</value>\n        </Data>\n        <Data name=\"datetime_\">\n          <value>2012-12-31T23:59:00Z</value>\n        </Data>\n      </ExtendedData>\n      <Point>\n        <coordinates>-122.4132568,37.76542451,0</coordinates>\n      </Point>\n    </Placemark>\n    <Placemark id=\"66029\">\n      <name />\n      <ExtendedData>\n        <Data name=\"category\">\n          <value>WEAPON LAWS</value>\n        </Data>\n        <Data name=\"descript\">\n          <value>POSS OF LOADED FIREARM</value>\n        </Data>\n        <Data name=\"pddistrict\">\n          <value>CENTRAL</value>\n        </Data>\n        <Data name=\"datetime_\">\n          <value>2012-12-31T23:57:00Z</value>\n        </Data>\n      </ExtendedData>\n      <Point>\n        <coordinates>-122.40299270000003,37.790858430000014,0</coordinates>\n      </Point>\n    </Placemark>\n    <Placemark id=\"66030\">\n      <name />\n      <ExtendedData>\n        <Data name=\"category\">\n          <value>OTHER OFFENSES</value>\n        </Data>\n        <Data name=\"descript\">\n          <value>PAROLE VIOLATION</value>\n        </Data>\n        <Data name=\"pddistrict\">\n          <value>CENTRAL</value>\n        </Data>\n        <Data name=\"datetime_\">\n          <value>2012-12-31T23:57:00Z</value>\n        </Data>\n      </ExtendedData>\n      <Point>\n        <coordinates>-122.40299270000003,37.790858430000014,0</coordinates>\n      </Point>\n    </Placemark>\n  </Document>\n</kml>"
          },
          "execution_count": 1,
          "metadata": {}
        }
      ]
    }
  ],
  "metadata": {
    "kernelspec": {
      "display_name": ".NET (C#)",
      "language": "C#",
      "name": ".net-csharp"
    },
    "language_info": {
      "file_extension": ".cs",
      "mimetype": "text/x-csharp",
      "name": "C#",
      "pygments_lexer": "csharp",
      "version": "8.0"
    }
  },
  "nbformat": 4,
  "nbformat_minor": 4
}