{
 "cells": [
  {
   "cell_type": "code",
   "execution_count": 1,
   "metadata": {},
   "source": [
    "#r \"./bin/Debug/net5.0/Demo.dll\"\n",
    "var service = new Demo.Service();\n",
    "var cities = service.Cities.Download(extraParameters: \"outSR=4326\", keepQuerying: true, degreeOfParallelism: 4).ToList();\n",
    "var states = service.States.Download().ToList();\n",
    ""
   ],
   "outputs": []
  },
  {
   "cell_type": "code",
   "execution_count": 1,
   "metadata": {},
   "source": [
    "states.OrderByDescending(x => x.Pop2000).Take(10)\n",
    ""
   ],
   "outputs": [
    {
     "output_type": "execute_result",
     "data": {
      "text/html": "<table><thead><tr><th><i>index</i></th><th>Area</th><th>StateName</th><th>SubRegion</th><th>StateAbbr</th><th>Pop2000</th><th>Pop00Sqmi</th><th>StAreaShape</th><th>StLengthShape</th><th>Geometry</th><th>OID</th><th>IsDataBound</th><th>IsDirty</th></tr></thead><tbody><tr><td>0</td><td><div class=\"dni-plaintext\">157776.31</div></td><td><div class=\"dni-plaintext\">California</div></td><td><div class=\"dni-plaintext\">Pacific</div></td><td><div class=\"dni-plaintext\">CA</div></td><td><div class=\"dni-plaintext\">33871648</div></td><td><div class=\"dni-plaintext\">215</div></td><td><div class=\"dni-plaintext\">41.53361754221851</div></td><td><div class=\"dni-plaintext\">42.26015974511878</div></td><td><div class=\"dni-plaintext\">PreStormCore.Polygon</div></td><td><div class=\"dni-plaintext\">25</div></td><td><div class=\"dni-plaintext\">True</div></td><td><div class=\"dni-plaintext\">False</div></td></tr><tr><td>1</td><td><div class=\"dni-plaintext\">264435.873</div></td><td><div class=\"dni-plaintext\">Texas</div></td><td><div class=\"dni-plaintext\">W S Cen</div></td><td><div class=\"dni-plaintext\">TX</div></td><td><div class=\"dni-plaintext\">20851820</div></td><td><div class=\"dni-plaintext\">79</div></td><td><div class=\"dni-plaintext\">65.05964246437718</div></td><td><div class=\"dni-plaintext\">64.8074598546582</div></td><td><div class=\"dni-plaintext\">PreStormCore.Polygon</div></td><td><div class=\"dni-plaintext\">41</div></td><td><div class=\"dni-plaintext\">True</div></td><td><div class=\"dni-plaintext\">False</div></td></tr><tr><td>2</td><td><div class=\"dni-plaintext\">48561.751</div></td><td><div class=\"dni-plaintext\">New York</div></td><td><div class=\"dni-plaintext\">Mid Atl</div></td><td><div class=\"dni-plaintext\">NY</div></td><td><div class=\"dni-plaintext\">18976457</div></td><td><div class=\"dni-plaintext\">391</div></td><td><div class=\"dni-plaintext\">13.874946838285751</div></td><td><div class=\"dni-plaintext\">28.487467790491337</div></td><td><div class=\"dni-plaintext\">PreStormCore.Polygon</div></td><td><div class=\"dni-plaintext\">17</div></td><td><div class=\"dni-plaintext\">True</div></td><td><div class=\"dni-plaintext\">False</div></td></tr><tr><td>3</td><td><div class=\"dni-plaintext\">55814.731</div></td><td><div class=\"dni-plaintext\">Florida</div></td><td><div class=\"dni-plaintext\">S Atl</div></td><td><div class=\"dni-plaintext\">FL</div></td><td><div class=\"dni-plaintext\">15982378</div></td><td><div class=\"dni-plaintext\">286</div></td><td><div class=\"dni-plaintext\">13.347672492388412</div></td><td><div class=\"dni-plaintext\">41.08500865727025</div></td><td><div class=\"dni-plaintext\">PreStormCore.Polygon</div></td><td><div class=\"dni-plaintext\">49</div></td><td><div class=\"dni-plaintext\">True</div></td><td><div class=\"dni-plaintext\">False</div></td></tr><tr><td>4</td><td><div class=\"dni-plaintext\">56299.387</div></td><td><div class=\"dni-plaintext\">Illinois</div></td><td><div class=\"dni-plaintext\">E N Cen</div></td><td><div class=\"dni-plaintext\">IL</div></td><td><div class=\"dni-plaintext\">12419293</div></td><td><div class=\"dni-plaintext\">221</div></td><td><div class=\"dni-plaintext\">15.396865029762147</div></td><td><div class=\"dni-plaintext\">19.999224104444185</div></td><td><div class=\"dni-plaintext\">PreStormCore.Polygon</div></td><td><div class=\"dni-plaintext\">27</div></td><td><div class=\"dni-plaintext\">True</div></td><td><div class=\"dni-plaintext\">False</div></td></tr><tr><td>5</td><td><div class=\"dni-plaintext\">45360.118</div></td><td><div class=\"dni-plaintext\">Pennsylvania</div></td><td><div class=\"dni-plaintext\">Mid Atl</div></td><td><div class=\"dni-plaintext\">PA</div></td><td><div class=\"dni-plaintext\">12281054</div></td><td><div class=\"dni-plaintext\">271</div></td><td><div class=\"dni-plaintext\">12.550312992014385</div></td><td><div class=\"dni-plaintext\">16.841083733278797</div></td><td><div class=\"dni-plaintext\">PreStormCore.Polygon</div></td><td><div class=\"dni-plaintext\">18</div></td><td><div class=\"dni-plaintext\">True</div></td><td><div class=\"dni-plaintext\">False</div></td></tr><tr><td>6</td><td><div class=\"dni-plaintext\">41193.957</div></td><td><div class=\"dni-plaintext\">Ohio</div></td><td><div class=\"dni-plaintext\">E N Cen</div></td><td><div class=\"dni-plaintext\">OH</div></td><td><div class=\"dni-plaintext\">11353140</div></td><td><div class=\"dni-plaintext\">276</div></td><td><div class=\"dni-plaintext\">11.300200824582584</div></td><td><div class=\"dni-plaintext\">16.13043717696355</div></td><td><div class=\"dni-plaintext\">PreStormCore.Polygon</div></td><td><div class=\"dni-plaintext\">26</div></td><td><div class=\"dni-plaintext\">True</div></td><td><div class=\"dni-plaintext\">False</div></td></tr><tr><td>7</td><td><div class=\"dni-plaintext\">57899.398</div></td><td><div class=\"dni-plaintext\">Michigan</div></td><td><div class=\"dni-plaintext\">E N Cen</div></td><td><div class=\"dni-plaintext\">MI</div></td><td><div class=\"dni-plaintext\">9938444</div></td><td><div class=\"dni-plaintext\">172</div></td><td><div class=\"dni-plaintext\">16.92826012138255</div></td><td><div class=\"dni-plaintext\">40.82328079435654</div></td><td><div class=\"dni-plaintext\">PreStormCore.Polygon</div></td><td><div class=\"dni-plaintext\">50</div></td><td><div class=\"dni-plaintext\">True</div></td><td><div class=\"dni-plaintext\">False</div></td></tr><tr><td>8</td><td><div class=\"dni-plaintext\">7507.502</div></td><td><div class=\"dni-plaintext\">New Jersey</div></td><td><div class=\"dni-plaintext\">Mid Atl</div></td><td><div class=\"dni-plaintext\">NJ</div></td><td><div class=\"dni-plaintext\">8414350</div></td><td><div class=\"dni-plaintext\">1121</div></td><td><div class=\"dni-plaintext\">2.0567407095651293</div></td><td><div class=\"dni-plaintext\">8.419596800641006</div></td><td><div class=\"dni-plaintext\">PreStormCore.Polygon</div></td><td><div class=\"dni-plaintext\">21</div></td><td><div class=\"dni-plaintext\">True</div></td><td><div class=\"dni-plaintext\">False</div></td></tr><tr><td>9</td><td><div class=\"dni-plaintext\">58629.222</div></td><td><div class=\"dni-plaintext\">Georgia</div></td><td><div class=\"dni-plaintext\">S Atl</div></td><td><div class=\"dni-plaintext\">GA</div></td><td><div class=\"dni-plaintext\">8186453</div></td><td><div class=\"dni-plaintext\">140</div></td><td><div class=\"dni-plaintext\">14.598827152233843</div></td><td><div class=\"dni-plaintext\">20.103468936089886</div></td><td><div class=\"dni-plaintext\">PreStormCore.Polygon</div></td><td><div class=\"dni-plaintext\">45</div></td><td><div class=\"dni-plaintext\">True</div></td><td><div class=\"dni-plaintext\">False</div></td></tr></tbody></table>"
     },
     "execution_count": 1,
     "metadata": {}
    }
   ]
  }
 ],
 "metadata": {
  "kernelspec": {
   "display_name": ".NET (C#)",
   "language": "C#",
   "name": ".net-csharp"
  },
  "language_info": {
   "file_extension": ".cs",
   "mimetype": "text/x-csharp",
   "name": "C#",
   "pygments_lexer": "csharp",
   "version": "8.0"
  }
 },
 "nbformat": 4,
 "nbformat_minor": 4
}