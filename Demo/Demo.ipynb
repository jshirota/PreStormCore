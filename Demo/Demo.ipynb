{
  "cells": [
    {
      "cell_type": "code",
      "execution_count": 1,
      "metadata": {
        "dotnet_interactive": {
          "language": "csharp"
        }
      },
      "source": [
        "#r \"./bin/Debug/net5.0/PreStormCore.dll\"\n",
        "#r \"./bin/Debug/net5.0/Demo.dll\"\n",
        "using System.Diagnostics;\n",
        "using System.Xml.Linq;\n",
        "using PreStormCore;\n",
        "\n",
        "var sfcrimes = new Sfcrimes.Service();\n",
        "var usa = new Usa.Service();\n",
        "\n",
        "var crimes = sfcrimes.CrimeLocations\n",
        "    // .Download(null, \"outSR=4326\", true, 8)\n",
        "    .Download(null, \"outSR=4326\")\n",
        "    .ToArray();\n",
        "\n",
        "var cities = usa.Cities.Download(null, null, true, 4).ToArray();\n",
        "var highways = usa.Highways.Download().ToArray();\n",
        "var states = usa.States.Download().ToArray();\n",
        "\n",
        "static void Show(this IEnumerable<dynamic> features) {\n",
        "    features.OfType<Feature>().Take(1000).ToKml(placemarkElements: x => new[]{ new XElement(\"Style\",\n",
        "        new XElement(\"IconStyle\",\n",
        "            new XElement(\"color\", \"ffffffff\"),\n",
        "            new XElement(\"Icon\",\n",
        "                new XElement(\"href\", \"http://maps.google.com/mapfiles/kml/shapes/square.png\"))),\n",
        "        new XElement(\"PolyStyle\",\n",
        "            new XElement(\"color\", \"b3ffffff\"))\n",
        "        )})\n",
        "        .Save(\"doc.kml\");\n",
        "    Process.Start(new ProcessStartInfo(\"doc.kml\"){ UseShellExecute = true });\n",
        "}\n",
        ""
      ],
      "outputs": []
    },
    {
      "cell_type": "code",
      "execution_count": 1,
      "metadata": {
        "dotnet_interactive": {
          "language": "csharp"
        }
      },
      "source": [
        "#r \"nuget: XPlot.Plotly, 3.0.1\"\n",
        "XPlot.Plotly.Chart.Column(crimes\n",
        "    .GroupBy(x => x.Pddistrict)\n",
        "    .OrderByDescending(x => x.Count())\n",
        "    .Select(x => Tuple.Create(x.Key, x.Count()))).Show()\n",
        "     "
      ],
      "outputs": [
        {
          "output_type": "execute_result",
          "data": {
            "text/plain": "Installed package XPlot.Plotly version 3.0.1"
          },
          "execution_count": 1,
          "metadata": {}
        }
      ]
    },
    {
      "cell_type": "code",
      "execution_count": 1,
      "metadata": {
        "dotnet_interactive": {
          "language": "csharp"
        }
      },
      "source": [
        "#r \"nuget: XPlot.Plotly, 3.0.1\"\n",
        "XPlot.Plotly.Chart.Pie(crimes\n",
        "    .GroupBy(x => x.Category)\n",
        "    .OrderByDescending(x => x.Count())\n",
        "    .Select(x => Tuple.Create(x.Key, x.Count()))).Show()\n",
        ""
      ],
      "outputs": []
    },
    {
      "cell_type": "code",
      "execution_count": 1,
      "metadata": {
        "dotnet_interactive": {
          "language": "csharp"
        }
      },
      "source": [
        "cities.Where(x => x.St == \"OH\").Show()\n",
        ""
      ],
      "outputs": []
    },
    {
      "cell_type": "code",
      "execution_count": 1,
      "metadata": {
        "dotnet_interactive": {
          "language": "csharp"
        }
      },
      "source": [
        "highways.Show()\n",
        ""
      ],
      "outputs": []
    },
    {
      "cell_type": "code",
      "execution_count": 1,
      "metadata": {
        "dotnet_interactive": {
          "language": "csharp"
        }
      },
      "source": [
        "states.Where(x => x.StateAbbr == \"AK\").Show()\n",
        ""
      ],
      "outputs": []
    },
    {
      "cell_type": "code",
      "execution_count": 1,
      "metadata": {
        "dotnet_interactive": {
          "language": "csharp"
        }
      },
      "source": [
        "using RedlandsEmergencyVehicles;\n",
        "\n",
        "var redlands = new RedlandsEmergencyVehicles.Service();\n",
        "var ambulance = new Ambulance {\n",
        "    Unitname = \"Dummy\",\n",
        "    Status = UnitStatus.Active,\n",
        "    Speed = 40,\n",
        "    Lastreport = DateTime.UtcNow,    \n",
        "    Geometry = (-80, 45)\n",
        "};\n",
        "\n",
        "var result = await redlands.Ambulances.InsertAsync(ambulance);\n",
        "result.InsertedFeatures\n",
        ""
      ],
      "outputs": [
        {
          "output_type": "execute_result",
          "data": {
            "text/html": "<table><thead><tr><th><i>index</i></th><th>Unitname</th><th>Status</th><th>Type</th><th>Callnumber</th><th>Speed</th><th>Lastreport</th><th>Geometry</th><th>OID</th><th>IsDataBound</th><th>IsDirty</th></tr></thead><tbody><tr><td>0</td><td><div class=\"dni-plaintext\">Dummy</div></td><td><span>Active</span></td><td><div class=\"dni-plaintext\">&lt;null&gt;</div></td><td><div class=\"dni-plaintext\">&lt;null&gt;</div></td><td><div class=\"dni-plaintext\">40</div></td><td><span>2021-02-17 00:39:39Z</span></td><td><div class=\"dni-plaintext\">PreStormCore.Point</div></td><td><div class=\"dni-plaintext\">394634</div></td><td><div class=\"dni-plaintext\">True</div></td><td><div class=\"dni-plaintext\">False</div></td></tr></tbody></table>"
          },
          "execution_count": 1,
          "metadata": {}
        }
      ]
    },
    {
      "cell_type": "code",
      "execution_count": 1,
      "metadata": {
        "dotnet_interactive": {
          "language": "csharp"
        }
      },
      "source": [
        "var redlands = new RedlandsEmergencyVehicles.Service();\n",
        "var ambulances = redlands.Ambulances.Download(\"Unitname='Dummy'\").ToArray();\n",
        "\n",
        "var result = await redlands.Ambulances.DeleteAsync(ambulances);\n",
        "result.Raw.deleteResults\n",
        ""
      ],
      "outputs": [
        {
          "output_type": "execute_result",
          "data": {
            "text/html": "<table><thead><tr><th><i>index</i></th><th>objectId</th><th>success</th></tr></thead><tbody><tr><td>0</td><td><div class=\"dni-plaintext\">394634</div></td><td><div class=\"dni-plaintext\">True</div></td></tr></tbody></table>"
          },
          "execution_count": 1,
          "metadata": {}
        }
      ]
    },
    {
      "cell_type": "code",
      "execution_count": 1,
      "metadata": {
        "dotnet_interactive": {
          "language": "csharp"
        }
      },
      "source": [
        "using Wildfire;\n",
        "using static System.Linq.Enumerable;\n",
        "\n",
        "var wildfire = new Wildfire.Service();\n",
        "int width = 30, height = 20, iterations = 60;\n",
        "var description = \"COVID-19\";\n",
        "\n",
        "static int[][] Tick(this int[][] g) {\n",
        "    int[][] f1(Func<int, int, int> f) => g.Select((r, y) => r.Select((_, x) => f(x, y)).ToArray()).ToArray();\n",
        "    int f2(int[][] g, int x, int y) => g.ElementAtOrDefault(y)?.ElementAtOrDefault(x) ?? 0;\n",
        "    var d = new[] { -1, 0, 1 };\n",
        "    var sum = f1((x, y) => (from dx in d from dy in d where dx != 0 || dy != 0 select f2(g, x + dx, y + dy)).Sum());\n",
        "    return f1((x, y) => {\n",
        "        var count = f2(sum, x, y);\n",
        "        return count == 3 || (count == 2 && f2(g, x, y) == 1) ? 1 : 0;\n",
        "    });\n",
        "}\n",
        "\n",
        "static Polygon[] ToPolygons(this int[][] g) => g\n",
        "    .SelectMany((r, y) => r.Select((value, x) => new { x, y, value }))\n",
        "    .Where(p => p.value == 1)\n",
        "    .Select(p => new Polygon((p.x, p.y), (p.x, p.y + 1), (p.x + 1, p.y + 1), (p.x + 1, p.y)){ spatialReference = 4326 })\n",
        "    .ToArray();\n",
        "\n",
        "var random = new Random(DateTime.Now.Millisecond);\n",
        "var cache = new Dictionary<string, object>();\n",
        "var grid = Range(0, height).Select(y => Range(0, width).Select(x => random.NextDouble() < 0.5 ? 0 : 1).ToArray()).ToArray();\n",
        "WildfireResponsePolygon[] fires;\n",
        "\n",
        "for(var i = 0; i < iterations; i++) {\n",
        "    fires = grid.ToPolygons()\n",
        "        .Select(p => new WildfireResponsePolygon { Geometry = p, Symbolid = 1, Description = description })\n",
        "        .ToArray();\n",
        "    fires.Show();\n",
        "    System.Threading.Thread.Sleep(500);\n",
        "    var next = grid.Tick();\n",
        "    var key = string.Join(\"\", next.SelectMany(p => p));\n",
        "    if(cache.ContainsKey(key))\n",
        "        break;\n",
        "    cache.Add(key, null);\n",
        "    grid = next;\n",
        "}\n",
        "\n",
        "var deletes = wildfire.WildfireResponsePolygons.Download($\"description='{description}'\").ToArray();\n",
        "await wildfire.WildfireResponsePolygons.DeleteAsync(deletes);\n",
        "await wildfire.WildfireResponsePolygons.InsertAsync(fires);\n",
        ""
      ],
      "outputs": []
    }
  ],
  "metadata": {
    "kernelspec": {
      "display_name": ".NET (C#)",
      "language": "C#",
      "name": ".net-csharp"
    },
    "language_info": {
      "file_extension": ".cs",
      "mimetype": "text/x-csharp",
      "name": "C#",
      "pygments_lexer": "csharp",
      "version": "8.0"
    }
  },
  "nbformat": 4,
  "nbformat_minor": 4
}