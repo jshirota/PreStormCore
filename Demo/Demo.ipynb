{
  "cells": [
    {
      "cell_type": "code",
      "execution_count": 1,
      "metadata": {
        "dotnet_interactive": {
          "language": "csharp"
        }
      },
      "source": [
        "#r \"./bin/Debug/net5.0/PreStormCore.dll\"\n",
        "#r \"./bin/Debug/net5.0/Demo.dll\"\n",
        "using System.Diagnostics;\n",
        "using PreStormCore;\n",
        "\n",
        "var crimes = new Sfcrimes.Service().CrimeLocations.Download(extraParameters: \"outSR=4326\", keepQuerying: true, degreeOfParallelism: 8).ToList();\n",
        "var cities = new Usa.Service().Cities.Download(keepQuerying: true, degreeOfParallelism: 4).ToList();\n",
        "var highways = new Usa.Service().Highways.Download().ToList();\n",
        "var states = new Usa.Service().States.Download().ToList();\n",
        "\n",
        "public static void Show<T>(this IEnumerable<T> fatures) where T: Feature {\n",
        "    fatures.ToKml().Save(\"doc.kml\");\n",
        "    Process.Start(\"explorer.exe\", \"doc.kml\");\n",
        "}\n",
        ""
      ],
      "outputs": []
    },
    {
      "cell_type": "code",
      "execution_count": 1,
      "metadata": {
        "dotnet_interactive": {
          "language": "csharp"
        }
      },
      "source": [
        "crimes.Take(4)\n",
        ""
      ],
      "outputs": [
        {
          "output_type": "execute_result",
          "data": {
            "text/html": "<table><thead><tr><th><i>index</i></th><th>Category</th><th>Descript</th><th>Pddistrict</th><th>Datetime</th><th>Geometry</th><th>OID</th><th>IsDataBound</th><th>IsDirty</th></tr></thead><tbody><tr><td>0</td><td><div class=\"dni-plaintext\">DUI/DRUNKENNESS</div></td><td><div class=\"dni-plaintext\">UNDER INFLUENCE OF ALCOHOL IN A PUBLIC PLACE</div></td><td><div class=\"dni-plaintext\">MISSION</div></td><td><span>2012-03-10 03:20:00Z</span></td><td><div class=\"dni-plaintext\">PreStormCore.Point</div></td><td><div class=\"dni-plaintext\">1</div></td><td><div class=\"dni-plaintext\">True</div></td><td><div class=\"dni-plaintext\">False</div></td></tr><tr><td>1</td><td><div class=\"dni-plaintext\">VANDALISM</div></td><td><div class=\"dni-plaintext\">MALICIOUS MISCHIEF, VANDALISM OF VEHICLES</div></td><td><div class=\"dni-plaintext\">BAYVIEW</div></td><td><span>2012-03-10 05:16:00Z</span></td><td><div class=\"dni-plaintext\">PreStormCore.Point</div></td><td><div class=\"dni-plaintext\">2</div></td><td><div class=\"dni-plaintext\">True</div></td><td><div class=\"dni-plaintext\">False</div></td></tr><tr><td>2</td><td><div class=\"dni-plaintext\">OTHER OFFENSES</div></td><td><div class=\"dni-plaintext\">LOST/STOLEN LICENSE PLATE</div></td><td><div class=\"dni-plaintext\">MISSION</div></td><td><span>2012-03-09 21:00:00Z</span></td><td><div class=\"dni-plaintext\">PreStormCore.Point</div></td><td><div class=\"dni-plaintext\">3</div></td><td><div class=\"dni-plaintext\">True</div></td><td><div class=\"dni-plaintext\">False</div></td></tr><tr><td>3</td><td><div class=\"dni-plaintext\">MISSING PERSON/RUNAWAY</div></td><td><div class=\"dni-plaintext\">FOUND PERSON</div></td><td><div class=\"dni-plaintext\">RICHMOND</div></td><td><span>2012-03-10 12:00:00Z</span></td><td><div class=\"dni-plaintext\">PreStormCore.Point</div></td><td><div class=\"dni-plaintext\">4</div></td><td><div class=\"dni-plaintext\">True</div></td><td><div class=\"dni-plaintext\">False</div></td></tr></tbody></table>"
          },
          "execution_count": 1,
          "metadata": {}
        }
      ]
    },
    {
      "cell_type": "code",
      "execution_count": 1,
      "metadata": {
        "dotnet_interactive": {
          "language": "csharp"
        }
      },
      "source": [
        "#r \"nuget: XPlot.Plotly, 3.0.1\"\n",
        "XPlot.Plotly.Chart.Bar(crimes.GroupBy(x => x.Pddistrict).Select(x => Tuple.Create(x.Key, x.Count())))\n",
        ""
      ],
      "outputs": [
        {
          "output_type": "execute_result",
          "data": {
            "text/html": "<div id=\"4606dc62-48bc-4648-8ab8-7be791b26759\" style=\"width: 900px; height: 500px;\"></div>\r\n<script type=\"text/javascript\">\r\n\r\nvar renderPlotly = function() {\r\n    var xplotRequire = require.config({context:'xplot-3.0.1',paths:{plotly:'https://cdn.plot.ly/plotly-1.49.2.min'}}) || require;\r\n    xplotRequire(['plotly'], function(Plotly) {\r\n\n            var data = [{\"type\":\"bar\",\"x\":[16259,12418,6809,9103,23080,10767,12595,10210,14266,7653],\"y\":[\"MISSION\",\"BAYVIEW\",\"RICHMOND\",\"TARAVAL\",\"SOUTHERN\",\"INGLESIDE\",\"CENTRAL\",\"TENDERLOIN\",\"NORTHERN\",\"PARK\"],\"orientation\":\"h\"}];\n            var layout = \"\";\n            Plotly.newPlot('4606dc62-48bc-4648-8ab8-7be791b26759', data, layout);\n        \r\n});\r\n};\r\n// ensure `require` is available globally\r\nif ((typeof(require) !==  typeof(Function)) || (typeof(require.config) !== typeof(Function))) {\r\n    let require_script = document.createElement('script');\r\n    require_script.setAttribute('src', 'https://cdnjs.cloudflare.com/ajax/libs/require.js/2.3.6/require.min.js');\r\n    require_script.setAttribute('type', 'text/javascript');\r\n    \r\n    \r\n    require_script.onload = function() {\r\n        renderPlotly();\r\n    };\r\n\r\n    document.getElementsByTagName('head')[0].appendChild(require_script);\r\n}\r\nelse {\r\n    renderPlotly();\r\n}\r\n\r\n</script>\r\n"
          },
          "execution_count": 1,
          "metadata": {}
        }
      ]
    },
    {
      "cell_type": "code",
      "execution_count": 1,
      "metadata": {
        "dotnet_interactive": {
          "language": "csharp"
        }
      },
      "source": [
        "#r \"nuget: XPlot.Plotly, 3.0.1\"\n",
        "XPlot.Plotly.Chart.Pie(crimes.GroupBy(x => x.Category).OrderByDescending(x => x.Count()).Select(x => Tuple.Create(x.Key, x.Count())))\n",
        ""
      ],
      "outputs": [
        {
          "output_type": "execute_result",
          "data": {
            "text/html": "<div id=\"80410803-672d-4bcc-ba96-09dc78df700a\" style=\"width: 900px; height: 500px;\"></div>\r\n<script type=\"text/javascript\">\r\n\r\nvar renderPlotly = function() {\r\n    var xplotRequire = require.config({context:'xplot-3.0.1',paths:{plotly:'https://cdn.plot.ly/plotly-1.49.2.min'}}) || require;\r\n    xplotRequire(['plotly'], function(Plotly) {\r\n\n            var data = [{\"type\":\"pie\",\"labels\":[\"BURGLARY/THEFT\",\"OTHER OFFENSES\",\"NON-CRIMINAL\",\"ASSAULT\",\"VANDALISM\",\"VEHICLE THEFT\",\"DRUG/NARCOTIC\",\"WARRANTS\",\"DISORDERLY CONDUCT\",\"MISSING PERSON/RUNAWAY\",\"FORGERY/FRAUD\",\"DUI/DRUNKENNESS\",\"WEAPON LAWS\",\"SEX OFFENSES, FORCIBLE\",\"SEX OFFENSES\",\"KIDNAPPING\",\"ARSON\",\"BRIBERY/EXTORTION\",\"SUICIDE\",\"FAMILY OFFENSES\",\"GAMBLING\"],\"values\":[39939,14913,14463,9834,7511,6828,6234,6182,5377,4660,3228,1262,1052,581,293,267,228,173,85,35,15]}];\n            var layout = \"\";\n            Plotly.newPlot('80410803-672d-4bcc-ba96-09dc78df700a', data, layout);\n        \r\n});\r\n};\r\n// ensure `require` is available globally\r\nif ((typeof(require) !==  typeof(Function)) || (typeof(require.config) !== typeof(Function))) {\r\n    let require_script = document.createElement('script');\r\n    require_script.setAttribute('src', 'https://cdnjs.cloudflare.com/ajax/libs/require.js/2.3.6/require.min.js');\r\n    require_script.setAttribute('type', 'text/javascript');\r\n    \r\n    \r\n    require_script.onload = function() {\r\n        renderPlotly();\r\n    };\r\n\r\n    document.getElementsByTagName('head')[0].appendChild(require_script);\r\n}\r\nelse {\r\n    renderPlotly();\r\n}\r\n\r\n</script>\r\n"
          },
          "execution_count": 1,
          "metadata": {}
        }
      ]
    },
    {
      "cell_type": "code",
      "execution_count": 1,
      "metadata": {
        "dotnet_interactive": {
          "language": "csharp"
        }
      },
      "source": [
        "crimes.Take(4).Select(x => x.ToText())\n",
        ""
      ],
      "outputs": [
        {
          "output_type": "execute_result",
          "data": {
            "text/html": "<table><thead><tr><th><i>index</i></th><th>value</th></tr></thead><tbody><tr><td>0</td><td><div class=\"dni-plaintext\">&quot;1&quot;,&quot;DUI/DRUNKENNESS&quot;,&quot;UNDER INFLUENCE OF ALCOHOL IN A PUBLIC PLACE&quot;,&quot;MISSION&quot;,&quot;2012-03-10T03:20:00.0000000Z&quot;</div></td></tr><tr><td>1</td><td><div class=\"dni-plaintext\">&quot;2&quot;,&quot;VANDALISM&quot;,&quot;MALICIOUS MISCHIEF, VANDALISM OF VEHICLES&quot;,&quot;BAYVIEW&quot;,&quot;2012-03-10T05:16:00.0000000Z&quot;</div></td></tr><tr><td>2</td><td><div class=\"dni-plaintext\">&quot;3&quot;,&quot;OTHER OFFENSES&quot;,&quot;LOST/STOLEN LICENSE PLATE&quot;,&quot;MISSION&quot;,&quot;2012-03-09T21:00:00.0000000Z&quot;</div></td></tr><tr><td>3</td><td><div class=\"dni-plaintext\">&quot;4&quot;,&quot;MISSING PERSON/RUNAWAY&quot;,&quot;FOUND PERSON&quot;,&quot;RICHMOND&quot;,&quot;2012-03-10T12:00:00.0000000Z&quot;</div></td></tr></tbody></table>"
          },
          "execution_count": 1,
          "metadata": {}
        }
      ]
    },
    {
      "cell_type": "code",
      "execution_count": 1,
      "metadata": {
        "dotnet_interactive": {
          "language": "csharp"
        }
      },
      "source": [
        "cities.Where(x => x.St == \"OH\").Show()\n",
        ""
      ],
      "outputs": []
    },
    {
      "cell_type": "code",
      "execution_count": 1,
      "metadata": {
        "dotnet_interactive": {
          "language": "csharp"
        }
      },
      "source": [
        "highways.Show()\n",
        ""
      ],
      "outputs": []
    },
    {
      "cell_type": "code",
      "execution_count": 1,
      "metadata": {
        "dotnet_interactive": {
          "language": "csharp"
        }
      },
      "source": [
        "states.Where(x => x.StateAbbr == \"AK\").Show()\n",
        ""
      ],
      "outputs": []
    }
  ],
  "metadata": {
    "kernelspec": {
      "display_name": ".NET (C#)",
      "language": "C#",
      "name": ".net-csharp"
    },
    "language_info": {
      "file_extension": ".cs",
      "mimetype": "text/x-csharp",
      "name": "C#",
      "pygments_lexer": "csharp",
      "version": "8.0"
    }
  },
  "nbformat": 4,
  "nbformat_minor": 4
}