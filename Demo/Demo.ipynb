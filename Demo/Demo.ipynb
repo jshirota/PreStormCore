{
  "cells": [
    {
      "cell_type": "code",
      "execution_count": 1,
      "metadata": {
        "dotnet_interactive": {
          "language": "csharp"
        }
      },
      "source": [
        "#r \"./bin/Debug/net5.0/PreStormCore.dll\"\n",
        "#r \"./bin/Debug/net5.0/Demo.dll\"\n",
        "using System.Diagnostics;\n",
        "using System.Xml.Linq;\n",
        "using PreStormCore;\n",
        "\n",
        "var sfcrimes = new Sfcrimes.Service();\n",
        "var usa = new Usa.Service();\n",
        "\n",
        "var crimes = sfcrimes.CrimeLocations.Download() //extraParameters: \"outSR=4326\", keepQuerying: true, degreeOfParallelism: 8)\n",
        "    .ToArray();\n",
        "\n",
        "var cities = usa.Cities.Download(null, null, true, 4).ToArray();\n",
        "var highways = usa.Highways.Download().ToArray();\n",
        "var states = usa.States.Download().ToArray();\n",
        "\n",
        "static void Show(this IEnumerable<dynamic> features) {\n",
        "    features.OfType<Feature>().ToKml(placemarkElements: x => new[]{ new XElement(\"Style\",\n",
        "        new XElement(\"IconStyle\", new XElement(\"color\", \"ffffffff\"), new XElement(\"Icon\", new XElement(\"href\", \"http://maps.google.com/mapfiles/kml/shapes/square.png\"))),\n",
        "        new XElement(\"PolyStyle\", new XElement(\"color\", \"b3ffffff\"))\n",
        "        )})\n",
        "        .Save(\"doc.kml\");\n",
        "    Process.Start(new ProcessStartInfo(\"doc.kml\"){ UseShellExecute = true });\n",
        "}\n",
        ""
      ],
      "outputs": []
    },
    {
      "cell_type": "code",
      "execution_count": 1,
      "metadata": {
        "dotnet_interactive": {
          "language": "csharp"
        }
      },
      "source": [
        "#r \"nuget: XPlot.Plotly, 3.0.1\"\n",
        "XPlot.Plotly.Chart.Column(crimes.GroupBy(x => x.Pddistrict).OrderByDescending(x => x.Count()).Select(x => Tuple.Create(x.Key, x.Count())))\n",
        ""
      ],
      "outputs": [
        {
          "output_type": "execute_result",
          "data": {
            "text/html": "<div id=\"d36d47f7-a5b2-4daa-a258-f42bfdad3591\" style=\"width: 900px; height: 500px;\"></div>\r\n<script type=\"text/javascript\">\n\r\nvar renderPlotly = function() {\r\n    var xplotRequire = require.config({context:'xplot-3.0.1',paths:{plotly:'https://cdn.plot.ly/plotly-1.49.2.min'}}) || require;\r\n    xplotRequire(['plotly'], function(Plotly) {\n\n            var data = [{\"type\":\"bar\",\"x\":[\"SOUTHERN\",\"NORTHERN\",\"MISSION\",\"TENDERLOIN\",\"INGLESIDE\",\"CENTRAL\",\"BAYVIEW\",\"TARAVAL\",\"RICHMOND\",\"PARK\"],\"y\":[413,246,236,192,178,165,163,139,134,134]}];\n            var layout = \"\";\n            Plotly.newPlot('d36d47f7-a5b2-4daa-a258-f42bfdad3591', data, layout);\n        \n});\r\n};\n// ensure `require` is available globally\r\nif ((typeof(require) !==  typeof(Function)) || (typeof(require.config) !== typeof(Function))) {\r\n    let require_script = document.createElement('script');\r\n    require_script.setAttribute('src', 'https://cdnjs.cloudflare.com/ajax/libs/require.js/2.3.6/require.min.js');\r\n    require_script.setAttribute('type', 'text/javascript');\r\n    \r\n    \r\n    require_script.onload = function() {\r\n        renderPlotly();\r\n    };\r\n\r\n    document.getElementsByTagName('head')[0].appendChild(require_script);\r\n}\r\nelse {\r\n    renderPlotly();\r\n}\r\n\n</script>\n"
          },
          "execution_count": 1,
          "metadata": {}
        }
      ]
    },
    {
      "cell_type": "code",
      "execution_count": 1,
      "metadata": {
        "dotnet_interactive": {
          "language": "csharp"
        }
      },
      "source": [
        "#r \"nuget: XPlot.Plotly, 3.0.1\"\n",
        "XPlot.Plotly.Chart.Pie(crimes.GroupBy(x => x.Category).OrderByDescending(x => x.Count()).Select(x => Tuple.Create(x.Key, x.Count())))\n",
        ""
      ],
      "outputs": [
        {
          "output_type": "execute_result",
          "data": {
            "text/html": "<div id=\"36ebfceb-77b3-4292-9422-702ef4b636b4\" style=\"width: 900px; height: 500px;\"></div>\r\n<script type=\"text/javascript\">\n\r\nvar renderPlotly = function() {\r\n    var xplotRequire = require.config({context:'xplot-3.0.1',paths:{plotly:'https://cdn.plot.ly/plotly-1.49.2.min'}}) || require;\r\n    xplotRequire(['plotly'], function(Plotly) {\n\n            var data = [{\"type\":\"pie\",\"labels\":[\"BURGLARY/THEFT\",\"NON-CRIMINAL\",\"OTHER OFFENSES\",\"VANDALISM\",\"ASSAULT\",\"DRUG/NARCOTIC\",\"WARRANTS\",\"DISORDERLY CONDUCT\",\"MISSING PERSON/RUNAWAY\",\"FORGERY/FRAUD\",\"VEHICLE THEFT\",\"SEX OFFENSES\",\"DUI/DRUNKENNESS\",\"SEX OFFENSES, FORCIBLE\",\"WEAPON LAWS\",\"KIDNAPPING\",\"BRIBERY/EXTORTION\",\"ARSON\",\"SUICIDE\"],\"values\":[701,282,215,155,138,134,104,92,69,39,37,7,6,6,6,3,2,2,2]}];\n            var layout = \"\";\n            Plotly.newPlot('36ebfceb-77b3-4292-9422-702ef4b636b4', data, layout);\n        \n});\r\n};\n// ensure `require` is available globally\r\nif ((typeof(require) !==  typeof(Function)) || (typeof(require.config) !== typeof(Function))) {\r\n    let require_script = document.createElement('script');\r\n    require_script.setAttribute('src', 'https://cdnjs.cloudflare.com/ajax/libs/require.js/2.3.6/require.min.js');\r\n    require_script.setAttribute('type', 'text/javascript');\r\n    \r\n    \r\n    require_script.onload = function() {\r\n        renderPlotly();\r\n    };\r\n\r\n    document.getElementsByTagName('head')[0].appendChild(require_script);\r\n}\r\nelse {\r\n    renderPlotly();\r\n}\r\n\n</script>\n"
          },
          "execution_count": 1,
          "metadata": {}
        }
      ]
    },
    {
      "cell_type": "code",
      "execution_count": 1,
      "metadata": {
        "dotnet_interactive": {
          "language": "csharp"
        }
      },
      "source": [
        "cities.Where(x => x.St == \"OH\").Show()\n",
        ""
      ],
      "outputs": []
    },
    {
      "cell_type": "code",
      "execution_count": 1,
      "metadata": {
        "dotnet_interactive": {
          "language": "csharp"
        }
      },
      "source": [
        "highways.Show()\n",
        ""
      ],
      "outputs": []
    },
    {
      "cell_type": "code",
      "execution_count": 1,
      "metadata": {
        "dotnet_interactive": {
          "language": "csharp"
        }
      },
      "source": [
        "states.Where(x => x.StateAbbr == \"AK\").Show()\n",
        ""
      ],
      "outputs": []
    },
    {
      "cell_type": "code",
      "execution_count": 1,
      "metadata": {
        "dotnet_interactive": {
          "language": "csharp"
        }
      },
      "source": [
        "using RedlandsEmergencyVehicles;\n",
        "\n",
        "var redlands = new RedlandsEmergencyVehicles.Service();\n",
        "var ambulance = new Ambulance {\n",
        "    Unitname = \"Dummy\",\n",
        "    Status = UnitStatus.Active,\n",
        "    Speed = 40,\n",
        "    Lastreport = DateTime.UtcNow,    \n",
        "    Geometry = (-80, 45)\n",
        "};\n",
        "\n",
        "var result = await redlands.Ambulances.InsertAsync(ambulance);\n",
        "redlands.Ambulances.Download().Show();\n",
        "result.InsertedFeatures\n",
        ""
      ],
      "outputs": [
        {
          "output_type": "execute_result",
          "data": {
            "text/html": "<table><thead><tr><th><i>index</i></th><th>Unitname</th><th>Status</th><th>Type</th><th>Callnumber</th><th>Speed</th><th>Lastreport</th><th>Geometry</th><th>OID</th><th>IsDataBound</th><th>IsDirty</th></tr></thead><tbody><tr><td>0</td><td><div class=\"dni-plaintext\">Dummy</div></td><td><span>Active</span></td><td><div class=\"dni-plaintext\">&lt;null&gt;</div></td><td><div class=\"dni-plaintext\">&lt;null&gt;</div></td><td><div class=\"dni-plaintext\">40</div></td><td><span>2021-02-13 22:50:38Z</span></td><td><div class=\"dni-plaintext\">PreStormCore.Point</div></td><td><div class=\"dni-plaintext\">391440</div></td><td><div class=\"dni-plaintext\">True</div></td><td><div class=\"dni-plaintext\">False</div></td></tr></tbody></table>"
          },
          "execution_count": 1,
          "metadata": {}
        }
      ]
    },
    {
      "cell_type": "code",
      "execution_count": 1,
      "metadata": {
        "dotnet_interactive": {
          "language": "csharp"
        }
      },
      "source": [
        "using RedlandsEmergencyVehicles;\n",
        "\n",
        "var redlands = new RedlandsEmergencyVehicles.Service();\n",
        "var ambulances = redlands.Ambulances.Download(\"Unitname='Dummy'\").ToArray();\n",
        "\n",
        "var result = await redlands.Ambulances.DeleteAsync(ambulances);\n",
        "redlands.Ambulances.Download().Show();\n",
        "result.Raw.deleteResults\n",
        ""
      ],
      "outputs": [
        {
          "output_type": "execute_result",
          "data": {
            "text/html": "<table><thead><tr><th><i>index</i></th><th>objectId</th><th>success</th></tr></thead><tbody><tr><td>0</td><td><div class=\"dni-plaintext\">391831</div></td><td><div class=\"dni-plaintext\">True</div></td></tr><tr><td>1</td><td><div class=\"dni-plaintext\">391439</div></td><td><div class=\"dni-plaintext\">True</div></td></tr></tbody></table>"
          },
          "execution_count": 1,
          "metadata": {}
        }
      ]
    },
    {
      "cell_type": "code",
      "execution_count": 1,
      "metadata": {
        "dotnet_interactive": {
          "language": "csharp"
        }
      },
      "source": [
        "using Wildfire;\n",
        "\n",
        "var wildfire = new Wildfire.Service();\n",
        "\n",
        "await wildfire.WildfireResponsePolygons.InsertAsync(new WildfireResponsePolygon{\n",
        "    Description = \"Delete me!\",\n",
        "    Geometry = new Polygon((-121, 50), (-121, 51), (-120, 51), (-120, 50))\n",
        "});\n",
        "\n",
        "var fires = wildfire.WildfireResponsePolygons.Download(\"description='Delete me!'\").ToArray();\n",
        "fires.Show();\n",
        "\n",
        "var result = await wildfire.WildfireResponsePolygons.DeleteAsync(fires);\n",
        "result.Raw.deleteResults\n",
        ""
      ],
      "outputs": [
        {
          "output_type": "execute_result",
          "data": {
            "text/html": "<table><thead><tr><th><i>index</i></th><th>objectId</th><th>success</th></tr></thead><tbody><tr><td>0</td><td><div class=\"dni-plaintext\">2801512</div></td><td><div class=\"dni-plaintext\">True</div></td></tr></tbody></table>"
          },
          "execution_count": 1,
          "metadata": {}
        }
      ]
    }
  ],
  "metadata": {
    "kernelspec": {
      "display_name": ".NET (C#)",
      "language": "C#",
      "name": ".net-csharp"
    },
    "language_info": {
      "file_extension": ".cs",
      "mimetype": "text/x-csharp",
      "name": "C#",
      "pygments_lexer": "csharp",
      "version": "8.0"
    }
  },
  "nbformat": 4,
  "nbformat_minor": 4
}