{
  "cells": [
    {
      "cell_type": "code",
      "execution_count": 1,
      "metadata": {
        "dotnet_interactive": {
          "language": "csharp"
        }
      },
      "source": [
        "#r \"./bin/Debug/net5.0/PreStormCore.dll\"\n",
        "#r \"./bin/Debug/net5.0/Demo.dll\"\n",
        "using System.Diagnostics;\n",
        "using System.Xml.Linq;\n",
        "using PreStormCore;\n",
        "\n",
        "var sfcrimes = new Sfcrimes.Service();\n",
        "var usa = new Usa.Service();\n",
        "\n",
        "var crimes = sfcrimes.CrimeLocations\n",
        "    // .Download(null, \"outSR=4326\", true, 8)\n",
        "    .Download(null, \"outSR=4326\")\n",
        "    .ToArray();\n",
        "\n",
        "var cities = usa.Cities.Download(null, null, true, 4).ToArray();\n",
        "var highways = usa.Highways.Download().ToArray();\n",
        "var states = usa.States.Download().ToArray();\n",
        "\n",
        "static void Show(this IEnumerable<dynamic> features) {\n",
        "    features.OfType<Feature>().Take(1000).ToKml(placemarkElements: x => new[]{ new XElement(\"Style\",\n",
        "        new XElement(\"IconStyle\", new XElement(\"color\", \"ffffffff\"), new XElement(\"Icon\", new XElement(\"href\", \"http://maps.google.com/mapfiles/kml/shapes/square.png\"))),\n",
        "        new XElement(\"PolyStyle\", new XElement(\"color\", \"b3ffffff\"))\n",
        "        )})\n",
        "        .Save(\"doc.kml\");\n",
        "    Process.Start(new ProcessStartInfo(\"doc.kml\"){ UseShellExecute = true });\n",
        "}\n",
        ""
      ],
      "outputs": []
    },
    {
      "cell_type": "code",
      "execution_count": 1,
      "metadata": {
        "dotnet_interactive": {
          "language": "csharp"
        }
      },
      "source": [
        "#r \"nuget: XPlot.Plotly, 3.0.1\"\n",
        "XPlot.Plotly.Chart.Column(crimes.GroupBy(x => x.Pddistrict).OrderByDescending(x => x.Count()).Select(x => Tuple.Create(x.Key, x.Count())))\n",
        ""
      ],
      "outputs": [
        {
          "output_type": "execute_result",
          "data": {
            "text/html": "<div id=\"9e0d12f7-6de9-47d6-8200-95e11dcd7970\" style=\"width: 900px; height: 500px;\"></div>\r\n<script type=\"text/javascript\">\n\r\nvar renderPlotly = function() {\r\n    var xplotRequire = require.config({context:'xplot-3.0.1',paths:{plotly:'https://cdn.plot.ly/plotly-1.49.2.min'}}) || require;\r\n    xplotRequire(['plotly'], function(Plotly) {\n\n            var data = [{\"type\":\"bar\",\"x\":[\"SOUTHERN\",\"NORTHERN\",\"MISSION\",\"TENDERLOIN\",\"INGLESIDE\",\"CENTRAL\",\"BAYVIEW\",\"TARAVAL\",\"RICHMOND\",\"PARK\"],\"y\":[413,246,236,192,178,165,163,139,134,134]}];\n            var layout = \"\";\n            Plotly.newPlot('9e0d12f7-6de9-47d6-8200-95e11dcd7970', data, layout);\n        \n});\r\n};\n// ensure `require` is available globally\r\nif ((typeof(require) !==  typeof(Function)) || (typeof(require.config) !== typeof(Function))) {\r\n    let require_script = document.createElement('script');\r\n    require_script.setAttribute('src', 'https://cdnjs.cloudflare.com/ajax/libs/require.js/2.3.6/require.min.js');\r\n    require_script.setAttribute('type', 'text/javascript');\r\n    \r\n    \r\n    require_script.onload = function() {\r\n        renderPlotly();\r\n    };\r\n\r\n    document.getElementsByTagName('head')[0].appendChild(require_script);\r\n}\r\nelse {\r\n    renderPlotly();\r\n}\r\n\n</script>\n"
          },
          "execution_count": 1,
          "metadata": {}
        }
      ]
    },
    {
      "cell_type": "code",
      "execution_count": 1,
      "metadata": {
        "dotnet_interactive": {
          "language": "csharp"
        }
      },
      "source": [
        "#r \"nuget: XPlot.Plotly, 3.0.1\"\n",
        "XPlot.Plotly.Chart.Pie(crimes.GroupBy(x => x.Category).OrderByDescending(x => x.Count()).Select(x => Tuple.Create(x.Key, x.Count())))\n",
        ""
      ],
      "outputs": [
        {
          "output_type": "execute_result",
          "data": {
            "text/html": "<div id=\"3cf76af5-5526-4a5a-af01-98ac9a189498\" style=\"width: 900px; height: 500px;\"></div>\r\n<script type=\"text/javascript\">\n\r\nvar renderPlotly = function() {\r\n    var xplotRequire = require.config({context:'xplot-3.0.1',paths:{plotly:'https://cdn.plot.ly/plotly-1.49.2.min'}}) || require;\r\n    xplotRequire(['plotly'], function(Plotly) {\n\n            var data = [{\"type\":\"pie\",\"labels\":[\"BURGLARY/THEFT\",\"NON-CRIMINAL\",\"OTHER OFFENSES\",\"VANDALISM\",\"ASSAULT\",\"DRUG/NARCOTIC\",\"WARRANTS\",\"DISORDERLY CONDUCT\",\"MISSING PERSON/RUNAWAY\",\"FORGERY/FRAUD\",\"VEHICLE THEFT\",\"SEX OFFENSES\",\"DUI/DRUNKENNESS\",\"SEX OFFENSES, FORCIBLE\",\"WEAPON LAWS\",\"KIDNAPPING\",\"BRIBERY/EXTORTION\",\"ARSON\",\"SUICIDE\"],\"values\":[701,282,215,155,138,134,104,92,69,39,37,7,6,6,6,3,2,2,2]}];\n            var layout = \"\";\n            Plotly.newPlot('3cf76af5-5526-4a5a-af01-98ac9a189498', data, layout);\n        \n});\r\n};\n// ensure `require` is available globally\r\nif ((typeof(require) !==  typeof(Function)) || (typeof(require.config) !== typeof(Function))) {\r\n    let require_script = document.createElement('script');\r\n    require_script.setAttribute('src', 'https://cdnjs.cloudflare.com/ajax/libs/require.js/2.3.6/require.min.js');\r\n    require_script.setAttribute('type', 'text/javascript');\r\n    \r\n    \r\n    require_script.onload = function() {\r\n        renderPlotly();\r\n    };\r\n\r\n    document.getElementsByTagName('head')[0].appendChild(require_script);\r\n}\r\nelse {\r\n    renderPlotly();\r\n}\r\n\n</script>\n"
          },
          "execution_count": 1,
          "metadata": {}
        }
      ]
    },
    {
      "cell_type": "code",
      "execution_count": 1,
      "metadata": {
        "dotnet_interactive": {
          "language": "csharp"
        }
      },
      "source": [
        "cities.Where(x => x.St == \"OH\").Show()\n",
        ""
      ],
      "outputs": []
    },
    {
      "cell_type": "code",
      "execution_count": 1,
      "metadata": {
        "dotnet_interactive": {
          "language": "csharp"
        }
      },
      "source": [
        "highways.Show()\n",
        ""
      ],
      "outputs": []
    },
    {
      "cell_type": "code",
      "execution_count": 1,
      "metadata": {
        "dotnet_interactive": {
          "language": "csharp"
        }
      },
      "source": [
        "states.Where(x => x.StateAbbr == \"AK\").Show()\n",
        ""
      ],
      "outputs": []
    },
    {
      "cell_type": "code",
      "execution_count": 1,
      "metadata": {
        "dotnet_interactive": {
          "language": "csharp"
        }
      },
      "source": [
        "using RedlandsEmergencyVehicles;\n",
        "\n",
        "var redlands = new RedlandsEmergencyVehicles.Service();\n",
        "var ambulance = new Ambulance {\n",
        "    Unitname = \"Dummy\",\n",
        "    Status = UnitStatus.Active,\n",
        "    Speed = 40,\n",
        "    Lastreport = DateTime.UtcNow,    \n",
        "    Geometry = (-80, 45)\n",
        "};\n",
        "\n",
        "var result = await redlands.Ambulances.InsertAsync(ambulance);\n",
        "result.InsertedFeatures\n",
        ""
      ],
      "outputs": [
        {
          "output_type": "execute_result",
          "data": {
            "text/html": "<table><thead><tr><th><i>index</i></th><th>Unitname</th><th>Status</th><th>Type</th><th>Callnumber</th><th>Speed</th><th>Lastreport</th><th>Geometry</th><th>OID</th><th>IsDataBound</th><th>IsDirty</th></tr></thead><tbody><tr><td>0</td><td><div class=\"dni-plaintext\">Dummy</div></td><td><span>Active</span></td><td><div class=\"dni-plaintext\">&lt;null&gt;</div></td><td><div class=\"dni-plaintext\">&lt;null&gt;</div></td><td><div class=\"dni-plaintext\">40</div></td><td><span>2021-02-15 01:28:12Z</span></td><td><div class=\"dni-plaintext\">PreStormCore.Point</div></td><td><div class=\"dni-plaintext\">393028</div></td><td><div class=\"dni-plaintext\">True</div></td><td><div class=\"dni-plaintext\">False</div></td></tr></tbody></table>"
          },
          "execution_count": 1,
          "metadata": {}
        }
      ]
    },
    {
      "cell_type": "code",
      "execution_count": 1,
      "metadata": {
        "dotnet_interactive": {
          "language": "csharp"
        }
      },
      "source": [
        "using RedlandsEmergencyVehicles;\n",
        "\n",
        "var redlands = new RedlandsEmergencyVehicles.Service();\n",
        "var ambulances = redlands.Ambulances.Download(\"Unitname='Dummy'\").ToArray();\n",
        "\n",
        "var result = await redlands.Ambulances.DeleteAsync(ambulances);\n",
        "result.Raw.deleteResults\n",
        ""
      ],
      "outputs": [
        {
          "output_type": "execute_result",
          "data": {
            "text/html": "<table><thead><tr><th><i>index</i></th><th>objectId</th><th>success</th></tr></thead><tbody><tr><td>0</td><td><div class=\"dni-plaintext\">392630</div></td><td><div class=\"dni-plaintext\">True</div></td></tr><tr><td>1</td><td><div class=\"dni-plaintext\">393028</div></td><td><div class=\"dni-plaintext\">True</div></td></tr></tbody></table>"
          },
          "execution_count": 1,
          "metadata": {}
        }
      ]
    },
    {
      "cell_type": "code",
      "execution_count": 1,
      "metadata": {
        "dotnet_interactive": {
          "language": "csharp"
        }
      },
      "source": [
        "int width = 30, height = 20, iterations = 60;\n",
        "\n",
        "static int[][] Tick(this int[][] g) {\n",
        "    int[][] f1(Func<int, int, int> f) => g.Select((r, y) => r.Select((_, x) => f(x, y)).ToArray()).ToArray();\n",
        "    int f2(int[][] g, int x, int y) => g.ElementAtOrDefault(y)?.ElementAtOrDefault(x) ?? 0;\n",
        "    var d = new[] { -1, 0, 1 };\n",
        "    var sum = f1((x, y) => (from dx in d from dy in d where dx != 0 || dy != 0 select f2(g, x + dx, y + dy)).Sum());\n",
        "    return f1((x, y) => {\n",
        "        var count = f2(sum, x, y);\n",
        "        return count == 3 || (count == 2 && Value(g, x, y) == 1) ? 1 : 0;\n",
        "    });\n",
        "}\n",
        "\n",
        "static void Show(this int[][] g) {\n",
        "    g.SelectMany((r, y) => r.Select((value, x) => new { x, y, value }))\n",
        "     .Where(p => p.value == 1)\n",
        "     .Select(p => new DynamicFeature { Geometry = new Polygon((p.x, p.y), (p.x, p.y + 1), (p.x + 1, p.y + 1), (p.x + 1, p.y))})\n",
        "     .Show();\n",
        "}\n",
        "\n",
        "var random = new Random(DateTime.Now.Millisecond);\n",
        "var cache = new Dictionary<string, object>();\n",
        "var grid = Enumerable.Range(0, height).Select(y => Enumerable.Range(0, width).Select(x => random.NextDouble() < 0.5 ? 0 : 1).ToArray()).ToArray();\n",
        "\n",
        "for(var i = 0; i < iterations; i++) {\n",
        "    grid.Show();\n",
        "    System.Threading.Thread.Sleep(1000);\n",
        "    var next = grid.Tick();\n",
        "    var key = string.Join(\"\", next.SelectMany(x => x));\n",
        "    if(cache.ContainsKey(key))\n",
        "        break;\n",
        "    cache.Add(key, null);\n",
        "    grid = next;\n",
        "}\n",
        ""
      ],
      "outputs": []
    }
  ],
  "metadata": {
    "kernelspec": {
      "display_name": ".NET (C#)",
      "language": "C#",
      "name": ".net-csharp"
    },
    "language_info": {
      "file_extension": ".cs",
      "mimetype": "text/x-csharp",
      "name": "C#",
      "pygments_lexer": "csharp",
      "version": "8.0"
    }
  },
  "nbformat": 4,
  "nbformat_minor": 4
}