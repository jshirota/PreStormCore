{
  "cells": [
    {
      "cell_type": "code",
      "execution_count": 1,
      "metadata": {
        "dotnet_interactive": {
          "language": "csharp"
        }
      },
      "source": [
        "#r \"./bin/Debug/net5.0/PreStormCore.dll\"\n",
        "#r \"./bin/Debug/net5.0/Demo.dll\"\n",
        "using System.Diagnostics;\n",
        "using PreStormCore;\n",
        "using Sfcrimes;\n",
        "using Usa;\n",
        "\n",
        "var sfcrimes = new Sfcrimes.Service();\n",
        "var usa = new Usa.Service();\n",
        "\n",
        "CrimeLocation[] crimes;\n",
        "City[] cities;\n",
        "Highway[] highways;\n",
        "County[] counties;\n",
        "State[] states;\n",
        "\n",
        "Task.WaitAll(\n",
        "    Task.Run(() => crimes = sfcrimes.CrimeLocations.Get(8)),\n",
        "    Task.Run(() => cities = usa.Cities.Get(2)),\n",
        "    Task.Run(() => highways = usa.Highways.Get()),\n",
        "    Task.Run(() => counties = usa.Counties.Get(2)),\n",
        "    Task.Run(() => states = usa.States.Get())\n",
        ");\n",
        "\n",
        "static T[] Get<T>(this ILayer<T> layer, int? dop = null) where T: Feature {\n",
        "    return layer.Download(keepQuerying: dop > 0, degreeOfParallelism: dop ?? 1).ToArray();\n",
        "}\n",
        "\n",
        "static void Show<T>(this IEnumerable<T> features) where T: Feature {\n",
        "    features.ToKml().Save(\"doc.kml\");\n",
        "    Process.Start(new ProcessStartInfo(\"doc.kml\"){ UseShellExecute = true });\n",
        "}\n",
        ""
      ],
      "outputs": []
    },
    {
      "cell_type": "code",
      "execution_count": 1,
      "metadata": {
        "dotnet_interactive": {
          "language": "csharp"
        }
      },
      "source": [
        "states.OrderByDescending(x => x.Pop2000).Take(10)\n",
        ""
      ],
      "outputs": [
        {
          "output_type": "execute_result",
          "data": {
            "text/html": "<table><thead><tr><th><i>index</i></th><th>Area</th><th>StateName</th><th>SubRegion</th><th>StateAbbr</th><th>Pop2000</th><th>Pop00Sqmi</th><th>StAreaShape</th><th>StLengthShape</th><th>Geometry</th><th>OID</th><th>IsDataBound</th><th>IsDirty</th></tr></thead><tbody><tr><td>0</td><td><div class=\"dni-plaintext\">157776.31</div></td><td><div class=\"dni-plaintext\">California</div></td><td><div class=\"dni-plaintext\">Pacific</div></td><td><div class=\"dni-plaintext\">CA</div></td><td><div class=\"dni-plaintext\">33871648</div></td><td><div class=\"dni-plaintext\">215</div></td><td><div class=\"dni-plaintext\">41.53361754221851</div></td><td><div class=\"dni-plaintext\">42.26015974511878</div></td><td><div class=\"dni-plaintext\">PreStormCore.Polygon</div></td><td><div class=\"dni-plaintext\">25</div></td><td><div class=\"dni-plaintext\">True</div></td><td><div class=\"dni-plaintext\">False</div></td></tr><tr><td>1</td><td><div class=\"dni-plaintext\">264435.873</div></td><td><div class=\"dni-plaintext\">Texas</div></td><td><div class=\"dni-plaintext\">W S Cen</div></td><td><div class=\"dni-plaintext\">TX</div></td><td><div class=\"dni-plaintext\">20851820</div></td><td><div class=\"dni-plaintext\">79</div></td><td><div class=\"dni-plaintext\">65.05964246437718</div></td><td><div class=\"dni-plaintext\">64.8074598546582</div></td><td><div class=\"dni-plaintext\">PreStormCore.Polygon</div></td><td><div class=\"dni-plaintext\">41</div></td><td><div class=\"dni-plaintext\">True</div></td><td><div class=\"dni-plaintext\">False</div></td></tr><tr><td>2</td><td><div class=\"dni-plaintext\">48561.751</div></td><td><div class=\"dni-plaintext\">New York</div></td><td><div class=\"dni-plaintext\">Mid Atl</div></td><td><div class=\"dni-plaintext\">NY</div></td><td><div class=\"dni-plaintext\">18976457</div></td><td><div class=\"dni-plaintext\">391</div></td><td><div class=\"dni-plaintext\">13.874946838285751</div></td><td><div class=\"dni-plaintext\">28.487467790491337</div></td><td><div class=\"dni-plaintext\">PreStormCore.Polygon</div></td><td><div class=\"dni-plaintext\">17</div></td><td><div class=\"dni-plaintext\">True</div></td><td><div class=\"dni-plaintext\">False</div></td></tr><tr><td>3</td><td><div class=\"dni-plaintext\">55814.731</div></td><td><div class=\"dni-plaintext\">Florida</div></td><td><div class=\"dni-plaintext\">S Atl</div></td><td><div class=\"dni-plaintext\">FL</div></td><td><div class=\"dni-plaintext\">15982378</div></td><td><div class=\"dni-plaintext\">286</div></td><td><div class=\"dni-plaintext\">13.347672492388412</div></td><td><div class=\"dni-plaintext\">41.08500865727025</div></td><td><div class=\"dni-plaintext\">PreStormCore.Polygon</div></td><td><div class=\"dni-plaintext\">49</div></td><td><div class=\"dni-plaintext\">True</div></td><td><div class=\"dni-plaintext\">False</div></td></tr><tr><td>4</td><td><div class=\"dni-plaintext\">56299.387</div></td><td><div class=\"dni-plaintext\">Illinois</div></td><td><div class=\"dni-plaintext\">E N Cen</div></td><td><div class=\"dni-plaintext\">IL</div></td><td><div class=\"dni-plaintext\">12419293</div></td><td><div class=\"dni-plaintext\">221</div></td><td><div class=\"dni-plaintext\">15.396865029762147</div></td><td><div class=\"dni-plaintext\">19.999224104444185</div></td><td><div class=\"dni-plaintext\">PreStormCore.Polygon</div></td><td><div class=\"dni-plaintext\">27</div></td><td><div class=\"dni-plaintext\">True</div></td><td><div class=\"dni-plaintext\">False</div></td></tr><tr><td>5</td><td><div class=\"dni-plaintext\">45360.118</div></td><td><div class=\"dni-plaintext\">Pennsylvania</div></td><td><div class=\"dni-plaintext\">Mid Atl</div></td><td><div class=\"dni-plaintext\">PA</div></td><td><div class=\"dni-plaintext\">12281054</div></td><td><div class=\"dni-plaintext\">271</div></td><td><div class=\"dni-plaintext\">12.550312992014385</div></td><td><div class=\"dni-plaintext\">16.841083733278797</div></td><td><div class=\"dni-plaintext\">PreStormCore.Polygon</div></td><td><div class=\"dni-plaintext\">18</div></td><td><div class=\"dni-plaintext\">True</div></td><td><div class=\"dni-plaintext\">False</div></td></tr><tr><td>6</td><td><div class=\"dni-plaintext\">41193.957</div></td><td><div class=\"dni-plaintext\">Ohio</div></td><td><div class=\"dni-plaintext\">E N Cen</div></td><td><div class=\"dni-plaintext\">OH</div></td><td><div class=\"dni-plaintext\">11353140</div></td><td><div class=\"dni-plaintext\">276</div></td><td><div class=\"dni-plaintext\">11.300200824582584</div></td><td><div class=\"dni-plaintext\">16.13043717696355</div></td><td><div class=\"dni-plaintext\">PreStormCore.Polygon</div></td><td><div class=\"dni-plaintext\">26</div></td><td><div class=\"dni-plaintext\">True</div></td><td><div class=\"dni-plaintext\">False</div></td></tr><tr><td>7</td><td><div class=\"dni-plaintext\">57899.398</div></td><td><div class=\"dni-plaintext\">Michigan</div></td><td><div class=\"dni-plaintext\">E N Cen</div></td><td><div class=\"dni-plaintext\">MI</div></td><td><div class=\"dni-plaintext\">9938444</div></td><td><div class=\"dni-plaintext\">172</div></td><td><div class=\"dni-plaintext\">16.92826012138255</div></td><td><div class=\"dni-plaintext\">40.82328079435654</div></td><td><div class=\"dni-plaintext\">PreStormCore.Polygon</div></td><td><div class=\"dni-plaintext\">50</div></td><td><div class=\"dni-plaintext\">True</div></td><td><div class=\"dni-plaintext\">False</div></td></tr><tr><td>8</td><td><div class=\"dni-plaintext\">7507.502</div></td><td><div class=\"dni-plaintext\">New Jersey</div></td><td><div class=\"dni-plaintext\">Mid Atl</div></td><td><div class=\"dni-plaintext\">NJ</div></td><td><div class=\"dni-plaintext\">8414350</div></td><td><div class=\"dni-plaintext\">1121</div></td><td><div class=\"dni-plaintext\">2.0567407095651293</div></td><td><div class=\"dni-plaintext\">8.419596800641006</div></td><td><div class=\"dni-plaintext\">PreStormCore.Polygon</div></td><td><div class=\"dni-plaintext\">21</div></td><td><div class=\"dni-plaintext\">True</div></td><td><div class=\"dni-plaintext\">False</div></td></tr><tr><td>9</td><td><div class=\"dni-plaintext\">58629.222</div></td><td><div class=\"dni-plaintext\">Georgia</div></td><td><div class=\"dni-plaintext\">S Atl</div></td><td><div class=\"dni-plaintext\">GA</div></td><td><div class=\"dni-plaintext\">8186453</div></td><td><div class=\"dni-plaintext\">140</div></td><td><div class=\"dni-plaintext\">14.598827152233843</div></td><td><div class=\"dni-plaintext\">20.103468936089886</div></td><td><div class=\"dni-plaintext\">PreStormCore.Polygon</div></td><td><div class=\"dni-plaintext\">45</div></td><td><div class=\"dni-plaintext\">True</div></td><td><div class=\"dni-plaintext\">False</div></td></tr></tbody></table>"
          },
          "execution_count": 1,
          "metadata": {}
        }
      ]
    },
    {
      "cell_type": "code",
      "execution_count": 1,
      "metadata": {
        "dotnet_interactive": {
          "language": "csharp"
        }
      },
      "source": [
        "#r \"nuget: XPlot.Plotly, 3.0.1\"\n",
        "XPlot.Plotly.Chart.Column(crimes.GroupBy(x => x.Pddistrict).OrderByDescending(x => x.Count()).Select(x => Tuple.Create(x.Key, x.Count())))\n",
        ""
      ],
      "outputs": [
        {
          "output_type": "execute_result",
          "data": {
            "text/plain": "Installed package XPlot.Plotly version 3.0.1"
          },
          "execution_count": 1,
          "metadata": {}
        },
        {
          "output_type": "execute_result",
          "data": {
            "text/html": "<div id=\"03ea5919-c9c8-4a7b-b13a-48327f749aa6\" style=\"width: 900px; height: 500px;\"></div>\r\n<script type=\"text/javascript\">\r\n\r\nvar renderPlotly = function() {\r\n    var xplotRequire = require.config({context:'xplot-3.0.1',paths:{plotly:'https://cdn.plot.ly/plotly-1.49.2.min'}}) || require;\r\n    xplotRequire(['plotly'], function(Plotly) {\r\n\n            var data = [{\"type\":\"bar\",\"x\":[\"SOUTHERN\",\"MISSION\",\"NORTHERN\",\"CENTRAL\",\"BAYVIEW\",\"INGLESIDE\",\"TENDERLOIN\",\"TARAVAL\",\"PARK\",\"RICHMOND\"],\"y\":[23080,16259,14266,12595,12418,10767,10210,9103,7653,6809]}];\n            var layout = \"\";\n            Plotly.newPlot('03ea5919-c9c8-4a7b-b13a-48327f749aa6', data, layout);\n        \r\n});\r\n};\r\n// ensure `require` is available globally\r\nif ((typeof(require) !==  typeof(Function)) || (typeof(require.config) !== typeof(Function))) {\r\n    let require_script = document.createElement('script');\r\n    require_script.setAttribute('src', 'https://cdnjs.cloudflare.com/ajax/libs/require.js/2.3.6/require.min.js');\r\n    require_script.setAttribute('type', 'text/javascript');\r\n    \r\n    \r\n    require_script.onload = function() {\r\n        renderPlotly();\r\n    };\r\n\r\n    document.getElementsByTagName('head')[0].appendChild(require_script);\r\n}\r\nelse {\r\n    renderPlotly();\r\n}\r\n\r\n</script>\r\n"
          },
          "execution_count": 1,
          "metadata": {}
        }
      ]
    },
    {
      "cell_type": "code",
      "execution_count": 1,
      "metadata": {
        "dotnet_interactive": {
          "language": "csharp"
        }
      },
      "source": [
        "#r \"nuget: XPlot.Plotly, 3.0.1\"\n",
        "XPlot.Plotly.Chart.Pie(crimes.GroupBy(x => x.Category).OrderByDescending(x => x.Count()).Select(x => Tuple.Create(x.Key, x.Count())))\n",
        ""
      ],
      "outputs": [
        {
          "output_type": "execute_result",
          "data": {
            "text/html": "<div id=\"4c549f1d-e928-4aae-bd43-c0b6d466f890\" style=\"width: 900px; height: 500px;\"></div>\r\n<script type=\"text/javascript\">\r\n\r\nvar renderPlotly = function() {\r\n    var xplotRequire = require.config({context:'xplot-3.0.1',paths:{plotly:'https://cdn.plot.ly/plotly-1.49.2.min'}}) || require;\r\n    xplotRequire(['plotly'], function(Plotly) {\r\n\n            var data = [{\"type\":\"pie\",\"labels\":[\"BURGLARY/THEFT\",\"OTHER OFFENSES\",\"NON-CRIMINAL\",\"ASSAULT\",\"VANDALISM\",\"VEHICLE THEFT\",\"DRUG/NARCOTIC\",\"WARRANTS\",\"DISORDERLY CONDUCT\",\"MISSING PERSON/RUNAWAY\",\"FORGERY/FRAUD\",\"DUI/DRUNKENNESS\",\"WEAPON LAWS\",\"SEX OFFENSES, FORCIBLE\",\"SEX OFFENSES\",\"KIDNAPPING\",\"ARSON\",\"BRIBERY/EXTORTION\",\"SUICIDE\",\"FAMILY OFFENSES\",\"GAMBLING\"],\"values\":[39939,14913,14463,9834,7511,6828,6234,6182,5377,4660,3228,1262,1052,581,293,267,228,173,85,35,15]}];\n            var layout = \"\";\n            Plotly.newPlot('4c549f1d-e928-4aae-bd43-c0b6d466f890', data, layout);\n        \r\n});\r\n};\r\n// ensure `require` is available globally\r\nif ((typeof(require) !==  typeof(Function)) || (typeof(require.config) !== typeof(Function))) {\r\n    let require_script = document.createElement('script');\r\n    require_script.setAttribute('src', 'https://cdnjs.cloudflare.com/ajax/libs/require.js/2.3.6/require.min.js');\r\n    require_script.setAttribute('type', 'text/javascript');\r\n    \r\n    \r\n    require_script.onload = function() {\r\n        renderPlotly();\r\n    };\r\n\r\n    document.getElementsByTagName('head')[0].appendChild(require_script);\r\n}\r\nelse {\r\n    renderPlotly();\r\n}\r\n\r\n</script>\r\n"
          },
          "execution_count": 1,
          "metadata": {}
        }
      ]
    },
    {
      "cell_type": "code",
      "execution_count": 1,
      "metadata": {
        "dotnet_interactive": {
          "language": "csharp"
        }
      },
      "source": [
        "cities.Where(x => x.St == \"OH\").Show()\n",
        ""
      ],
      "outputs": []
    },
    {
      "cell_type": "code",
      "execution_count": 1,
      "metadata": {
        "dotnet_interactive": {
          "language": "csharp"
        }
      },
      "source": [
        "highways.Show()\n",
        ""
      ],
      "outputs": []
    },
    {
      "cell_type": "code",
      "execution_count": 1,
      "metadata": {
        "dotnet_interactive": {
          "language": "csharp"
        }
      },
      "source": [
        "counties.Where(x => x.Pop2000 > 100000).Show()\n",
        ""
      ],
      "outputs": []
    },
    {
      "cell_type": "code",
      "execution_count": 1,
      "metadata": {
        "dotnet_interactive": {
          "language": "csharp"
        }
      },
      "source": [
        "states.Where(x => x.StateAbbr == \"AK\").Show()\n",
        ""
      ],
      "outputs": []
    },
    {
      "cell_type": "code",
      "execution_count": 1,
      "metadata": {
        "dotnet_interactive": {
          "language": "csharp"
        }
      },
      "source": [
        "using RedlandsEmergencyVehicles;\n",
        "\n",
        "var redlands = new RedlandsEmergencyVehicles.Service();\n",
        "\n",
        "var ambulance = new Ambulance {\n",
        "    Unitname = \"Dummy\",\n",
        "    Status = UnitStatus.Active,\n",
        "    Speed = 40,\n",
        "    Lastreport = DateTime.UtcNow,    \n",
        "    Geometry = (-120, 50)\n",
        "};\n",
        "\n",
        "var result = await redlands.Ambulances.InsertAsync(ambulance);\n",
        "\n",
        "// redlands.Ambulances.Get().Show();\n",
        "\n",
        "result.InsertedFeatures\n",
        ""
      ],
      "outputs": [
        {
          "output_type": "error",
          "ename": "Error",
          "evalue": "(15,21): error CS1061: 'IFeatureLayer<Ambulance>' does not contain a definition for 'Get' and no accessible extension method 'Get' accepting a first argument of type 'IFeatureLayer<Ambulance>' could be found (are you missing a using directive or an assembly reference?)",
          "traceback": []
        }
      ]
    },
    {
      "cell_type": "code",
      "execution_count": 1,
      "metadata": {
        "dotnet_interactive": {
          "language": "csharp"
        }
      },
      "source": [
        "var redlands = new RedlandsEmergencyVehicles.Service();\n",
        "\n",
        "var ambulances = redlands.Ambulances.Download(\"Unitname='Dummy'\").ToArray();\n",
        "\n",
        "var result = await redlands.Ambulances.DeleteAsync(ambulances);\n",
        "\n",
        "// redlands.Ambulances.Get().Show();\n",
        "\n",
        "result.Raw.deleteResults\n",
        ""
      ],
      "outputs": [
        {
          "output_type": "error",
          "ename": "Error",
          "evalue": "(7,21): error CS1061: 'IFeatureLayer<Ambulance>' does not contain a definition for 'Get' and no accessible extension method 'Get' accepting a first argument of type 'IFeatureLayer<Ambulance>' could be found (are you missing a using directive or an assembly reference?)",
          "traceback": []
        }
      ]
    }
  ],
  "metadata": {
    "kernelspec": {
      "display_name": ".NET (C#)",
      "language": "C#",
      "name": ".net-csharp"
    },
    "language_info": {
      "file_extension": ".cs",
      "mimetype": "text/x-csharp",
      "name": "C#",
      "pygments_lexer": "csharp",
      "version": "8.0"
    }
  },
  "nbformat": 4,
  "nbformat_minor": 4
}